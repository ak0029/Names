{
 "cells": [
  {
   "cell_type": "markdown",
   "metadata": {},
   "source": [
    "# Names Of Gods\n",
    "\n",
    "I created the dataset in excel, and converted it into .csv file\n",
    "\n",
    "I put different names of three gods Shiva, Vishnu & Devi and made total 150 rows with 5 columns.\n",
    "I'm trying to show names of gods with their respective meanings.\n",
    "\n",
    "From [Data Analysis with Python: Zero to Pandas](zerotopandas.com) course & learned basic things, which makes me capable to apply it on real world."
   ]
  },
  {
   "cell_type": "markdown",
   "metadata": {},
   "source": [
    "## Downloading the Dataset\n",
    "\n",
    "Here I used opendatasets library\n",
    "firstly I uploaded my csv file to my [Github](https://github.com/ak0029/names) account then fetched that file in my [kaggle](https://www.kaggle.com/avadhootk/names-df) account and from kaggle I downloaded that file to jupiter notebook \n"
   ]
  },
  {
   "cell_type": "code",
   "execution_count": 1,
   "metadata": {},
   "outputs": [
    {
     "name": "stdout",
     "output_type": "stream",
     "text": [
      "Requirement already up-to-date: opendatasets in /srv/conda/envs/notebook/lib/python3.8/site-packages (0.1.6)\n",
      "Requirement already satisfied, skipping upgrade: kaggle in /srv/conda/envs/notebook/lib/python3.8/site-packages (from opendatasets) (1.5.8)\n",
      "Requirement already satisfied, skipping upgrade: click in /srv/conda/envs/notebook/lib/python3.8/site-packages (from opendatasets) (7.1.2)\n",
      "Requirement already satisfied, skipping upgrade: tqdm in /srv/conda/envs/notebook/lib/python3.8/site-packages (from opendatasets) (4.49.0)\n",
      "Requirement already satisfied, skipping upgrade: urllib3<1.25,>=1.21.1 in /srv/conda/envs/notebook/lib/python3.8/site-packages (from kaggle->opendatasets) (1.24.3)\n",
      "Requirement already satisfied, skipping upgrade: python-slugify in /srv/conda/envs/notebook/lib/python3.8/site-packages (from kaggle->opendatasets) (4.0.1)\n",
      "Requirement already satisfied, skipping upgrade: six>=1.10 in /srv/conda/envs/notebook/lib/python3.8/site-packages (from kaggle->opendatasets) (1.15.0)\n",
      "Requirement already satisfied, skipping upgrade: python-dateutil in /srv/conda/envs/notebook/lib/python3.8/site-packages (from kaggle->opendatasets) (2.8.1)\n",
      "Requirement already satisfied, skipping upgrade: certifi in /srv/conda/envs/notebook/lib/python3.8/site-packages (from kaggle->opendatasets) (2020.6.20)\n",
      "Requirement already satisfied, skipping upgrade: requests in /srv/conda/envs/notebook/lib/python3.8/site-packages (from kaggle->opendatasets) (2.24.0)\n",
      "Requirement already satisfied, skipping upgrade: slugify in /srv/conda/envs/notebook/lib/python3.8/site-packages (from kaggle->opendatasets) (0.0.1)\n",
      "Requirement already satisfied, skipping upgrade: text-unidecode>=1.3 in /srv/conda/envs/notebook/lib/python3.8/site-packages (from python-slugify->kaggle->opendatasets) (1.3)\n",
      "Requirement already satisfied, skipping upgrade: idna<3,>=2.5 in /srv/conda/envs/notebook/lib/python3.8/site-packages (from requests->kaggle->opendatasets) (2.10)\n",
      "Requirement already satisfied, skipping upgrade: chardet<4,>=3.0.2 in /srv/conda/envs/notebook/lib/python3.8/site-packages (from requests->kaggle->opendatasets) (3.0.4)\n"
     ]
    }
   ],
   "source": [
    "# Install opendataset library\n",
    "\n",
    "!pip install opendatasets --upgrade\n",
    "import opendatasets as od"
   ]
  },
  {
   "cell_type": "code",
   "execution_count": 2,
   "metadata": {},
   "outputs": [
    {
     "name": "stdout",
     "output_type": "stream",
     "text": [
      "Please provide your Kaggle credentials to download this dataset. Learn more: http://bit.ly/kaggle-creds\n",
      "Your Kaggle username: avadhootk\n",
      "Your Kaggle Key: ········\n"
     ]
    },
    {
     "name": "stderr",
     "output_type": "stream",
     "text": [
      "100%|██████████| 5.40k/5.40k [00:00<00:00, 2.18MB/s]"
     ]
    },
    {
     "name": "stdout",
     "output_type": "stream",
     "text": [
      "Downloading names-df.zip to ./names-df\n",
      "\n"
     ]
    },
    {
     "name": "stderr",
     "output_type": "stream",
     "text": [
      "\n"
     ]
    }
   ],
   "source": [
    "#Retrieve data\n",
    "\n",
    "dataset_url = 'https://www.kaggle.com/avadhootk/names-df'\n",
    "od.download('https://www.kaggle.com/avadhootk/names-df')\n",
    "\n",
    "# Use below username & key\n",
    "# username: avadhootk\n",
    "# key: e432ba9ab838c63effeb16e660e18743"
   ]
  },
  {
   "cell_type": "code",
   "execution_count": 3,
   "metadata": {},
   "outputs": [],
   "source": [
    "# Import Pandas\n",
    "\n",
    "import pandas as pd"
   ]
  },
  {
   "cell_type": "code",
   "execution_count": 4,
   "metadata": {},
   "outputs": [],
   "source": [
    "# Install Jovian library and commit changes after each stage for work saving\n",
    "\n",
    "!pip install jovian --upgrade --quiet"
   ]
  },
  {
   "cell_type": "code",
   "execution_count": 5,
   "metadata": {},
   "outputs": [],
   "source": [
    "import jovian"
   ]
  },
  {
   "cell_type": "code",
   "execution_count": 6,
   "metadata": {
    "scrolled": true
   },
   "outputs": [
    {
     "data": {
      "application/javascript": [
       "window.require && require([\"base/js/namespace\"],function(Jupyter){Jupyter.notebook.save_checkpoint()})"
      ],
      "text/plain": [
       "<IPython.core.display.Javascript object>"
      ]
     },
     "metadata": {},
     "output_type": "display_data"
    },
    {
     "name": "stdout",
     "output_type": "stream",
     "text": [
      "[jovian] Attempting to save notebook..\u001b[0m\n",
      "[jovian] Please enter your API key ( from https://jovian.ml/ ):\u001b[0m\n",
      "API KEY: ········\n",
      "[jovian] Updating notebook \"avadhoot-kesarkar/ak-names\" on https://jovian.ml/\u001b[0m\n",
      "[jovian] Uploading notebook..\u001b[0m\n",
      "[jovian] Capturing environment..\u001b[0m\n",
      "[jovian] Committed successfully! https://jovian.ml/avadhoot-kesarkar/ak-names\u001b[0m\n"
     ]
    },
    {
     "data": {
      "text/plain": [
       "'https://jovian.ml/avadhoot-kesarkar/ak-names'"
      ]
     },
     "execution_count": 6,
     "metadata": {},
     "output_type": "execute_result"
    }
   ],
   "source": [
    "jovian.commit(project='ak-names')"
   ]
  },
  {
   "cell_type": "code",
   "execution_count": 7,
   "metadata": {},
   "outputs": [],
   "source": [
    "# Import OS library \n",
    "import os"
   ]
  },
  {
   "cell_type": "code",
   "execution_count": 8,
   "metadata": {},
   "outputs": [
    {
     "data": {
      "text/plain": [
       "['README.md', 'Names.csv']"
      ]
     },
     "execution_count": 8,
     "metadata": {},
     "output_type": "execute_result"
    }
   ],
   "source": [
    "# For listing files under directories\n",
    "\n",
    "os.listdir('names-df')"
   ]
  },
  {
   "cell_type": "code",
   "execution_count": 9,
   "metadata": {
    "scrolled": false
   },
   "outputs": [],
   "source": [
    "# Contains 2 files we need .csv file for our project\n",
    "# read .csv file using pandas library\n",
    "\n",
    "raw_df = pd.read_csv('names-df/Names.csv')"
   ]
  },
  {
   "cell_type": "code",
   "execution_count": 10,
   "metadata": {},
   "outputs": [
    {
     "data": {
      "text/html": [
       "<div>\n",
       "<style scoped>\n",
       "    .dataframe tbody tr th:only-of-type {\n",
       "        vertical-align: middle;\n",
       "    }\n",
       "\n",
       "    .dataframe tbody tr th {\n",
       "        vertical-align: top;\n",
       "    }\n",
       "\n",
       "    .dataframe thead th {\n",
       "        text-align: right;\n",
       "    }\n",
       "</style>\n",
       "<table border=\"1\" class=\"dataframe\">\n",
       "  <thead>\n",
       "    <tr style=\"text-align: right;\">\n",
       "      <th></th>\n",
       "      <th>belongs_to</th>\n",
       "      <th>name</th>\n",
       "      <th>meaning</th>\n",
       "      <th>mantra</th>\n",
       "      <th>sanskrit</th>\n",
       "    </tr>\n",
       "  </thead>\n",
       "  <tbody>\n",
       "    <tr>\n",
       "      <th>0</th>\n",
       "      <td>Shiva</td>\n",
       "      <td>Shivay</td>\n",
       "      <td>Always Pure</td>\n",
       "      <td>Om Shivay Namah</td>\n",
       "      <td>ॐ शिवाय नमः।</td>\n",
       "    </tr>\n",
       "    <tr>\n",
       "      <th>1</th>\n",
       "      <td>Shiva</td>\n",
       "      <td>Maheshwar</td>\n",
       "      <td>Lord of gods</td>\n",
       "      <td>Om Maheshwaraya Namah</td>\n",
       "      <td>ॐ महेश्वराय नमः।</td>\n",
       "    </tr>\n",
       "    <tr>\n",
       "      <th>2</th>\n",
       "      <td>Shiva</td>\n",
       "      <td>Shambhu</td>\n",
       "      <td>One Who Bestows Prosperity</td>\n",
       "      <td>Om Shambhave Namah</td>\n",
       "      <td>ॐ शंभवे नमः।</td>\n",
       "    </tr>\n",
       "    <tr>\n",
       "      <th>3</th>\n",
       "      <td>Shiva</td>\n",
       "      <td>Pinakine</td>\n",
       "      <td>One Who Has A Bow In His Hand</td>\n",
       "      <td>Om Pinakine namah</td>\n",
       "      <td>ॐ पिनाकिने नमः।</td>\n",
       "    </tr>\n",
       "    <tr>\n",
       "      <th>4</th>\n",
       "      <td>Shiva</td>\n",
       "      <td>Shashi Shekhara</td>\n",
       "      <td>The God Who Wears The Crescent Moon In His Hair</td>\n",
       "      <td>Om Shashishekharay Namah</td>\n",
       "      <td>ॐ शशिशेखराय नमः।</td>\n",
       "    </tr>\n",
       "    <tr>\n",
       "      <th>...</th>\n",
       "      <td>...</td>\n",
       "      <td>...</td>\n",
       "      <td>...</td>\n",
       "      <td>...</td>\n",
       "      <td>...</td>\n",
       "    </tr>\n",
       "    <tr>\n",
       "      <th>145</th>\n",
       "      <td>Narayan</td>\n",
       "      <td>Adhokshaja</td>\n",
       "      <td>One Whose Vitality Never Flows Downwards</td>\n",
       "      <td>Om Adhokshajaya Namah।</td>\n",
       "      <td>ॐ अधोक्षजाय नमः।</td>\n",
       "    </tr>\n",
       "    <tr>\n",
       "      <th>146</th>\n",
       "      <td>Narayan</td>\n",
       "      <td>Gajendravarada</td>\n",
       "      <td>Lord Vishnu Gave a Benediction to Gajendra (El...</td>\n",
       "      <td>Om Gajendravaradaya Namah।</td>\n",
       "      <td>ॐ गजेन्द्रवरदाय नमः।</td>\n",
       "    </tr>\n",
       "    <tr>\n",
       "      <th>147</th>\n",
       "      <td>Narayan</td>\n",
       "      <td>Aniruddha</td>\n",
       "      <td>One Who Cannot Be Obstructed</td>\n",
       "      <td>Om Aniruddhaya Namah।</td>\n",
       "      <td>ॐ अनिरुद्धाय नमः।</td>\n",
       "    </tr>\n",
       "    <tr>\n",
       "      <th>148</th>\n",
       "      <td>Narayan</td>\n",
       "      <td>Bhaktavatsala</td>\n",
       "      <td>One Who Loves His Devotees</td>\n",
       "      <td>Om Bhaktavatsalaya Namah।</td>\n",
       "      <td>ॐ भक्तवत्सलाय नमः।</td>\n",
       "    </tr>\n",
       "    <tr>\n",
       "      <th>149</th>\n",
       "      <td>Narayan</td>\n",
       "      <td>Nara</td>\n",
       "      <td>The Guide</td>\n",
       "      <td>Om Naraya Namah।</td>\n",
       "      <td>ॐ नराय नमः।</td>\n",
       "    </tr>\n",
       "  </tbody>\n",
       "</table>\n",
       "<p>150 rows × 5 columns</p>\n",
       "</div>"
      ],
      "text/plain": [
       "    belongs_to             name  \\\n",
       "0        Shiva           Shivay   \n",
       "1        Shiva        Maheshwar   \n",
       "2        Shiva          Shambhu   \n",
       "3        Shiva         Pinakine   \n",
       "4        Shiva  Shashi Shekhara   \n",
       "..         ...              ...   \n",
       "145    Narayan       Adhokshaja   \n",
       "146    Narayan   Gajendravarada   \n",
       "147    Narayan        Aniruddha   \n",
       "148    Narayan    Bhaktavatsala   \n",
       "149    Narayan             Nara   \n",
       "\n",
       "                                               meaning  \\\n",
       "0                                          Always Pure   \n",
       "1                                         Lord of gods   \n",
       "2                           One Who Bestows Prosperity   \n",
       "3                        One Who Has A Bow In His Hand   \n",
       "4      The God Who Wears The Crescent Moon In His Hair   \n",
       "..                                                 ...   \n",
       "145           One Whose Vitality Never Flows Downwards   \n",
       "146  Lord Vishnu Gave a Benediction to Gajendra (El...   \n",
       "147                       One Who Cannot Be Obstructed   \n",
       "148                         One Who Loves His Devotees   \n",
       "149                                          The Guide   \n",
       "\n",
       "                         mantra              sanskrit  \n",
       "0               Om Shivay Namah          ॐ शिवाय नमः।  \n",
       "1         Om Maheshwaraya Namah      ॐ महेश्वराय नमः।  \n",
       "2            Om Shambhave Namah          ॐ शंभवे नमः।  \n",
       "3             Om Pinakine namah       ॐ पिनाकिने नमः।  \n",
       "4      Om Shashishekharay Namah      ॐ शशिशेखराय नमः।  \n",
       "..                          ...                   ...  \n",
       "145      Om Adhokshajaya Namah।      ॐ अधोक्षजाय नमः।  \n",
       "146  Om Gajendravaradaya Namah।  ॐ गजेन्द्रवरदाय नमः।  \n",
       "147       Om Aniruddhaya Namah।     ॐ अनिरुद्धाय नमः।  \n",
       "148   Om Bhaktavatsalaya Namah।    ॐ भक्तवत्सलाय नमः।  \n",
       "149            Om Naraya Namah।           ॐ नराय नमः।  \n",
       "\n",
       "[150 rows x 5 columns]"
      ]
     },
     "execution_count": 10,
     "metadata": {},
     "output_type": "execute_result"
    }
   ],
   "source": [
    "# Our dataframe which we are going to use for this project\n",
    "\n",
    "raw_df"
   ]
  },
  {
   "cell_type": "markdown",
   "metadata": {
    "scrolled": true
   },
   "source": [
    "- Errors faced while creating dataset\n",
    "\n",
    " I compared my .csv file by opening in notepad++ with covid_df file which used in demo by sir and removed its errors otherwise  I faced lots of issues.\n",
    "\n"
   ]
  },
  {
   "cell_type": "code",
   "execution_count": 11,
   "metadata": {},
   "outputs": [
    {
     "data": {
      "application/javascript": [
       "window.require && require([\"base/js/namespace\"],function(Jupyter){Jupyter.notebook.save_checkpoint()})"
      ],
      "text/plain": [
       "<IPython.core.display.Javascript object>"
      ]
     },
     "metadata": {},
     "output_type": "display_data"
    },
    {
     "name": "stdout",
     "output_type": "stream",
     "text": [
      "[jovian] Attempting to save notebook..\u001b[0m\n",
      "[jovian] Updating notebook \"avadhoot-kesarkar/ak-names\" on https://jovian.ml/\u001b[0m\n",
      "[jovian] Uploading notebook..\u001b[0m\n",
      "[jovian] Capturing environment..\u001b[0m\n",
      "[jovian] Committed successfully! https://jovian.ml/avadhoot-kesarkar/ak-names\u001b[0m\n"
     ]
    },
    {
     "data": {
      "text/plain": [
       "'https://jovian.ml/avadhoot-kesarkar/ak-names'"
      ]
     },
     "execution_count": 11,
     "metadata": {},
     "output_type": "execute_result"
    }
   ],
   "source": [
    "jovian.commit()"
   ]
  },
  {
   "cell_type": "markdown",
   "metadata": {},
   "source": [
    "## Data Preparation and Cleaning\n",
    "\n",
    "**TODO** - We are checking no. of columns, rows, etc. We are taking here overview of file\n"
   ]
  },
  {
   "cell_type": "code",
   "execution_count": 12,
   "metadata": {},
   "outputs": [
    {
     "data": {
      "text/plain": [
       "Index(['belongs_to', 'name', 'meaning', 'mantra', 'sanskrit'], dtype='object')"
      ]
     },
     "execution_count": 12,
     "metadata": {},
     "output_type": "execute_result"
    }
   ],
   "source": [
    "# Showing columns names in df\n",
    "\n",
    "raw_df.columns"
   ]
  },
  {
   "cell_type": "code",
   "execution_count": 13,
   "metadata": {},
   "outputs": [
    {
     "name": "stdout",
     "output_type": "stream",
     "text": [
      "<class 'pandas.core.frame.DataFrame'>\n",
      "RangeIndex: 150 entries, 0 to 149\n",
      "Data columns (total 5 columns):\n",
      " #   Column      Non-Null Count  Dtype \n",
      "---  ------      --------------  ----- \n",
      " 0   belongs_to  150 non-null    object\n",
      " 1   name        150 non-null    object\n",
      " 2   meaning     150 non-null    object\n",
      " 3   mantra      150 non-null    object\n",
      " 4   sanskrit    150 non-null    object\n",
      "dtypes: object(5)\n",
      "memory usage: 6.0+ KB\n"
     ]
    }
   ],
   "source": [
    "# Info about data frame\n",
    "\n",
    "raw_df.info()"
   ]
  },
  {
   "cell_type": "code",
   "execution_count": 14,
   "metadata": {},
   "outputs": [
    {
     "data": {
      "text/plain": [
       "<bound method DataFrame.info of     belongs_to             name  \\\n",
       "0        Shiva           Shivay   \n",
       "1        Shiva        Maheshwar   \n",
       "2        Shiva          Shambhu   \n",
       "3        Shiva         Pinakine   \n",
       "4        Shiva  Shashi Shekhara   \n",
       "..         ...              ...   \n",
       "145    Narayan       Adhokshaja   \n",
       "146    Narayan   Gajendravarada   \n",
       "147    Narayan        Aniruddha   \n",
       "148    Narayan    Bhaktavatsala   \n",
       "149    Narayan             Nara   \n",
       "\n",
       "                                               meaning  \\\n",
       "0                                          Always Pure   \n",
       "1                                         Lord of gods   \n",
       "2                           One Who Bestows Prosperity   \n",
       "3                        One Who Has A Bow In His Hand   \n",
       "4      The God Who Wears The Crescent Moon In His Hair   \n",
       "..                                                 ...   \n",
       "145           One Whose Vitality Never Flows Downwards   \n",
       "146  Lord Vishnu Gave a Benediction to Gajendra (El...   \n",
       "147                       One Who Cannot Be Obstructed   \n",
       "148                         One Who Loves His Devotees   \n",
       "149                                          The Guide   \n",
       "\n",
       "                         mantra              sanskrit  \n",
       "0               Om Shivay Namah          ॐ शिवाय नमः।  \n",
       "1         Om Maheshwaraya Namah      ॐ महेश्वराय नमः।  \n",
       "2            Om Shambhave Namah          ॐ शंभवे नमः।  \n",
       "3             Om Pinakine namah       ॐ पिनाकिने नमः।  \n",
       "4      Om Shashishekharay Namah      ॐ शशिशेखराय नमः।  \n",
       "..                          ...                   ...  \n",
       "145      Om Adhokshajaya Namah।      ॐ अधोक्षजाय नमः।  \n",
       "146  Om Gajendravaradaya Namah।  ॐ गजेन्द्रवरदाय नमः।  \n",
       "147       Om Aniruddhaya Namah।     ॐ अनिरुद्धाय नमः।  \n",
       "148   Om Bhaktavatsalaya Namah।    ॐ भक्तवत्सलाय नमः।  \n",
       "149            Om Naraya Namah।           ॐ नराय नमः।  \n",
       "\n",
       "[150 rows x 5 columns]>"
      ]
     },
     "execution_count": 14,
     "metadata": {},
     "output_type": "execute_result"
    }
   ],
   "source": [
    "# Showing more elaborate info without using .info()\n",
    "\n",
    "raw_df.info"
   ]
  },
  {
   "cell_type": "code",
   "execution_count": 15,
   "metadata": {},
   "outputs": [
    {
     "data": {
      "text/html": [
       "<div>\n",
       "<style scoped>\n",
       "    .dataframe tbody tr th:only-of-type {\n",
       "        vertical-align: middle;\n",
       "    }\n",
       "\n",
       "    .dataframe tbody tr th {\n",
       "        vertical-align: top;\n",
       "    }\n",
       "\n",
       "    .dataframe thead th {\n",
       "        text-align: right;\n",
       "    }\n",
       "</style>\n",
       "<table border=\"1\" class=\"dataframe\">\n",
       "  <thead>\n",
       "    <tr style=\"text-align: right;\">\n",
       "      <th></th>\n",
       "      <th>belongs_to</th>\n",
       "      <th>name</th>\n",
       "      <th>meaning</th>\n",
       "      <th>mantra</th>\n",
       "      <th>sanskrit</th>\n",
       "    </tr>\n",
       "  </thead>\n",
       "  <tbody>\n",
       "    <tr>\n",
       "      <th>count</th>\n",
       "      <td>150</td>\n",
       "      <td>150</td>\n",
       "      <td>150</td>\n",
       "      <td>150</td>\n",
       "      <td>150</td>\n",
       "    </tr>\n",
       "    <tr>\n",
       "      <th>unique</th>\n",
       "      <td>3</td>\n",
       "      <td>147</td>\n",
       "      <td>150</td>\n",
       "      <td>148</td>\n",
       "      <td>148</td>\n",
       "    </tr>\n",
       "    <tr>\n",
       "      <th>top</th>\n",
       "      <td>Shiva</td>\n",
       "      <td>Ananta</td>\n",
       "      <td>Lord Of Pure Soul</td>\n",
       "      <td>Om Anantaya Namah।</td>\n",
       "      <td>ॐ भक्तवत्सलाय नमः।</td>\n",
       "    </tr>\n",
       "    <tr>\n",
       "      <th>freq</th>\n",
       "      <td>108</td>\n",
       "      <td>3</td>\n",
       "      <td>1</td>\n",
       "      <td>2</td>\n",
       "      <td>2</td>\n",
       "    </tr>\n",
       "  </tbody>\n",
       "</table>\n",
       "</div>"
      ],
      "text/plain": [
       "       belongs_to    name            meaning              mantra  \\\n",
       "count         150     150                150                 150   \n",
       "unique          3     147                150                 148   \n",
       "top         Shiva  Ananta  Lord Of Pure Soul  Om Anantaya Namah।   \n",
       "freq          108       3                  1                   2   \n",
       "\n",
       "                  sanskrit  \n",
       "count                  150  \n",
       "unique                 148  \n",
       "top     ॐ भक्तवत्सलाय नमः।  \n",
       "freq                     2  "
      ]
     },
     "execution_count": 15,
     "metadata": {},
     "output_type": "execute_result"
    }
   ],
   "source": [
    "# Overall description include count, frquency, etc.\n",
    "\n",
    "raw_df.describe()"
   ]
  },
  {
   "cell_type": "code",
   "execution_count": 16,
   "metadata": {},
   "outputs": [
    {
     "data": {
      "text/plain": [
       "(150, 5)"
      ]
     },
     "execution_count": 16,
     "metadata": {},
     "output_type": "execute_result"
    }
   ],
   "source": [
    "# Showing No of Rows vs Columns\n",
    "\n",
    "raw_df.shape"
   ]
  },
  {
   "cell_type": "code",
   "execution_count": 17,
   "metadata": {},
   "outputs": [
    {
     "data": {
      "text/html": [
       "<div>\n",
       "<style scoped>\n",
       "    .dataframe tbody tr th:only-of-type {\n",
       "        vertical-align: middle;\n",
       "    }\n",
       "\n",
       "    .dataframe tbody tr th {\n",
       "        vertical-align: top;\n",
       "    }\n",
       "\n",
       "    .dataframe thead th {\n",
       "        text-align: right;\n",
       "    }\n",
       "</style>\n",
       "<table border=\"1\" class=\"dataframe\">\n",
       "  <thead>\n",
       "    <tr style=\"text-align: right;\">\n",
       "      <th></th>\n",
       "      <th>belongs_to</th>\n",
       "      <th>name</th>\n",
       "      <th>meaning</th>\n",
       "      <th>mantra</th>\n",
       "      <th>sanskrit</th>\n",
       "    </tr>\n",
       "  </thead>\n",
       "  <tbody>\n",
       "    <tr>\n",
       "      <th>45</th>\n",
       "      <td>Shiva</td>\n",
       "      <td>Sarvagya</td>\n",
       "      <td>The One Who Knows Everything</td>\n",
       "      <td>Om Sarvajnaya Namah</td>\n",
       "      <td>ॐ सर्वज्ञाय नमः।</td>\n",
       "    </tr>\n",
       "    <tr>\n",
       "      <th>51</th>\n",
       "      <td>Shiva</td>\n",
       "      <td>Panchavaktra</td>\n",
       "      <td>God Of The Five Activities</td>\n",
       "      <td>Om Panchavaktraya Namah</td>\n",
       "      <td>ॐ पंचवक्त्राय नमः।</td>\n",
       "    </tr>\n",
       "    <tr>\n",
       "      <th>119</th>\n",
       "      <td>Devi</td>\n",
       "      <td>Mahalaxmi</td>\n",
       "      <td>Supreme Goddess Of Fortune, Wealth</td>\n",
       "      <td>Om Mahalaxmyaii Namah</td>\n",
       "      <td>ॐ महालक्ष्मै नमः।</td>\n",
       "    </tr>\n",
       "    <tr>\n",
       "      <th>121</th>\n",
       "      <td>Devi</td>\n",
       "      <td>Mahavidya</td>\n",
       "      <td>Supreme Goddess Of Vidya</td>\n",
       "      <td>Om Mahavidyayaii Namah</td>\n",
       "      <td>ॐ महाविद्यायै नमः।</td>\n",
       "    </tr>\n",
       "    <tr>\n",
       "      <th>40</th>\n",
       "      <td>Shiva</td>\n",
       "      <td>Bhasmodhulitavigrahaya</td>\n",
       "      <td>The One Who Applies Ashes All Over The Body</td>\n",
       "      <td>Om Bhasmodhulitavigrahaya Namah</td>\n",
       "      <td>ॐ भस्मोद्धूलितविग्रहाय नमः।</td>\n",
       "    </tr>\n",
       "    <tr>\n",
       "      <th>67</th>\n",
       "      <td>Shiva</td>\n",
       "      <td>Purarati</td>\n",
       "      <td>Destroyer OF Town Or \"Pur\" Named Enemy</td>\n",
       "      <td>Om Purarataye Namah।</td>\n",
       "      <td>ॐ पुरारातये नमः।</td>\n",
       "    </tr>\n",
       "    <tr>\n",
       "      <th>110</th>\n",
       "      <td>Devi</td>\n",
       "      <td>Agyangocharaa</td>\n",
       "      <td>Remover Of Agyana</td>\n",
       "      <td>Om Agyangocharayai Namah</td>\n",
       "      <td>ॐ अज्ञानगोचरायै नमः।</td>\n",
       "    </tr>\n",
       "    <tr>\n",
       "      <th>18</th>\n",
       "      <td>Shiva</td>\n",
       "      <td>Sharva</td>\n",
       "      <td>Remover Of all troubles</td>\n",
       "      <td>Om Sharvaya Namah</td>\n",
       "      <td>ॐ शर्वाय नमः।</td>\n",
       "    </tr>\n",
       "    <tr>\n",
       "      <th>38</th>\n",
       "      <td>Shiva</td>\n",
       "      <td>Vrishank</td>\n",
       "      <td>The God Who Has A Flag With A Symbol Of Bull</td>\n",
       "      <td>Om Vrishankaya Namah</td>\n",
       "      <td>ॐ वृषांकाय नमः।</td>\n",
       "    </tr>\n",
       "    <tr>\n",
       "      <th>118</th>\n",
       "      <td>Devi</td>\n",
       "      <td>Mahamaya</td>\n",
       "      <td>Supreme Divine Power Of Illusion</td>\n",
       "      <td>Om Mahamayayaii Namah</td>\n",
       "      <td>ॐ महामायायै नमः।</td>\n",
       "    </tr>\n",
       "  </tbody>\n",
       "</table>\n",
       "</div>"
      ],
      "text/plain": [
       "    belongs_to                    name  \\\n",
       "45       Shiva                Sarvagya   \n",
       "51       Shiva            Panchavaktra   \n",
       "119       Devi               Mahalaxmi   \n",
       "121       Devi               Mahavidya   \n",
       "40       Shiva  Bhasmodhulitavigrahaya   \n",
       "67       Shiva                Purarati   \n",
       "110       Devi           Agyangocharaa   \n",
       "18       Shiva                  Sharva   \n",
       "38       Shiva                Vrishank   \n",
       "118       Devi                Mahamaya   \n",
       "\n",
       "                                          meaning  \\\n",
       "45                   The One Who Knows Everything   \n",
       "51                     God Of The Five Activities   \n",
       "119            Supreme Goddess Of Fortune, Wealth   \n",
       "121                      Supreme Goddess Of Vidya   \n",
       "40    The One Who Applies Ashes All Over The Body   \n",
       "67         Destroyer OF Town Or \"Pur\" Named Enemy   \n",
       "110                             Remover Of Agyana   \n",
       "18                        Remover Of all troubles   \n",
       "38   The God Who Has A Flag With A Symbol Of Bull   \n",
       "118              Supreme Divine Power Of Illusion   \n",
       "\n",
       "                              mantra                     sanskrit  \n",
       "45               Om Sarvajnaya Namah             ॐ सर्वज्ञाय नमः।  \n",
       "51           Om Panchavaktraya Namah           ॐ पंचवक्त्राय नमः।  \n",
       "119            Om Mahalaxmyaii Namah            ॐ महालक्ष्मै नमः।  \n",
       "121           Om Mahavidyayaii Namah           ॐ महाविद्यायै नमः।  \n",
       "40   Om Bhasmodhulitavigrahaya Namah  ॐ भस्मोद्धूलितविग्रहाय नमः।  \n",
       "67              Om Purarataye Namah।             ॐ पुरारातये नमः।  \n",
       "110         Om Agyangocharayai Namah         ॐ अज्ञानगोचरायै नमः।  \n",
       "18                 Om Sharvaya Namah                ॐ शर्वाय नमः।  \n",
       "38              Om Vrishankaya Namah              ॐ वृषांकाय नमः।  \n",
       "118            Om Mahamayayaii Namah             ॐ महामायायै नमः।  "
      ]
     },
     "execution_count": 17,
     "metadata": {},
     "output_type": "execute_result"
    }
   ],
   "source": [
    "# Random 10 samples of df \n",
    "\n",
    "raw_df.sample(10)"
   ]
  },
  {
   "cell_type": "code",
   "execution_count": 18,
   "metadata": {},
   "outputs": [
    {
     "data": {
      "text/plain": [
       "belongs_to                        Devi\n",
       "name                        Aadishakti\n",
       "meaning             The Primeval Power\n",
       "mantra        Om Aadishakatayaii Namah\n",
       "sanskrit              ॐ आदिशक्तयै नमः।\n",
       "Name: 111, dtype: object"
      ]
     },
     "execution_count": 18,
     "metadata": {},
     "output_type": "execute_result"
    }
   ],
   "source": [
    "# Accessing data at particular row\n",
    "\n",
    "raw_df.loc[111]"
   ]
  },
  {
   "cell_type": "markdown",
   "metadata": {},
   "source": [
    "**Happy Navratri**"
   ]
  },
  {
   "cell_type": "code",
   "execution_count": 19,
   "metadata": {},
   "outputs": [
    {
     "data": {
      "application/javascript": [
       "window.require && require([\"base/js/namespace\"],function(Jupyter){Jupyter.notebook.save_checkpoint()})"
      ],
      "text/plain": [
       "<IPython.core.display.Javascript object>"
      ]
     },
     "metadata": {},
     "output_type": "display_data"
    },
    {
     "name": "stdout",
     "output_type": "stream",
     "text": [
      "[jovian] Attempting to save notebook..\u001b[0m\n",
      "[jovian] Updating notebook \"avadhoot-kesarkar/ak-names\" on https://jovian.ml/\u001b[0m\n",
      "[jovian] Uploading notebook..\u001b[0m\n",
      "[jovian] Capturing environment..\u001b[0m\n",
      "[jovian] Committed successfully! https://jovian.ml/avadhoot-kesarkar/ak-names\u001b[0m\n"
     ]
    },
    {
     "data": {
      "text/plain": [
       "'https://jovian.ml/avadhoot-kesarkar/ak-names'"
      ]
     },
     "execution_count": 19,
     "metadata": {},
     "output_type": "execute_result"
    }
   ],
   "source": [
    "jovian.commit()"
   ]
  },
  {
   "cell_type": "markdown",
   "metadata": {},
   "source": [
    "## Exploratory Analysis and Visualization\n",
    "\n",
    "We are trying here to perform some mathematical as well as chart, graphs related methods by trial and error\n"
   ]
  },
  {
   "cell_type": "markdown",
   "metadata": {},
   "source": [
    "Let's begin by importing`matplotlib.pyplot` and `seaborn`."
   ]
  },
  {
   "cell_type": "code",
   "execution_count": 20,
   "metadata": {},
   "outputs": [],
   "source": [
    "import seaborn as sns\n",
    "import matplotlib\n",
    "import matplotlib.pyplot as plt\n",
    "\n",
    "# Below fuction helps to ensure that graph is shown in jupyter notebook\n",
    "%matplotlib inline\n",
    "\n",
    "sns.set_style('darkgrid')\n",
    "matplotlib.rcParams['font.size'] = 14\n",
    "matplotlib.rcParams['figure.figsize'] = (9, 5)\n",
    "matplotlib.rcParams['figure.facecolor'] = '#00000000'"
   ]
  },
  {
   "cell_type": "markdown",
   "metadata": {},
   "source": [
    "**TODO** - Explore one or more columns by plotting a graph below, and add some explanation about it"
   ]
  },
  {
   "cell_type": "code",
   "execution_count": 21,
   "metadata": {},
   "outputs": [
    {
     "data": {
      "text/plain": [
       "count       150\n",
       "unique        3\n",
       "top       Shiva\n",
       "freq        108\n",
       "Name: belongs_to, dtype: object"
      ]
     },
     "execution_count": 21,
     "metadata": {},
     "output_type": "execute_result"
    }
   ],
   "source": [
    "# Showing  description of column data belongs to\n",
    "\n",
    "raw_df.belongs_to.describe()"
   ]
  },
  {
   "cell_type": "code",
   "execution_count": 22,
   "metadata": {},
   "outputs": [
    {
     "data": {
      "text/plain": [
       "array(['Shiva', 'Devi', 'Narayan'], dtype=object)"
      ]
     },
     "execution_count": 22,
     "metadata": {},
     "output_type": "execute_result"
    }
   ],
   "source": [
    "# Finds unique values in belongs_to columns\n",
    "\n",
    "raw_df.belongs_to.unique()"
   ]
  },
  {
   "cell_type": "code",
   "execution_count": 23,
   "metadata": {
    "scrolled": true
   },
   "outputs": [
    {
     "data": {
      "text/plain": [
       "count        150\n",
       "unique       147\n",
       "top       Ananta\n",
       "freq           3\n",
       "Name: name, dtype: object"
      ]
     },
     "execution_count": 23,
     "metadata": {},
     "output_type": "execute_result"
    }
   ],
   "source": [
    "# Showing  description of name column data\n",
    "\n",
    "raw_df.name.describe()"
   ]
  },
  {
   "cell_type": "code",
   "execution_count": 24,
   "metadata": {},
   "outputs": [
    {
     "data": {
      "text/plain": [
       "array(['Shivay', 'Maheshwar', 'Shambhu', 'Pinakine', 'Shashi Shekhara',\n",
       "       'Vamadev', 'Virupaksha', 'Kapardi', 'Nilalohita', 'Shankar',\n",
       "       'Shulpani', 'Khatvangi', 'Vishnuvallabh', 'Shipivishta',\n",
       "       'Ambikanath', 'Srikantha', 'Bhaktvatsal', 'Bhava', 'Sharva',\n",
       "       'Trilokesh', 'Shitikantha', 'Shivapriya', 'Ugra', 'Kapali',\n",
       "       'Kamari', 'Andhakasura Sudan', 'Gangadhar', 'Lalataksha',\n",
       "       'kalakal', 'Krupanidhi', 'Bheema', 'Parashuhasta', 'Mrigpaani',\n",
       "       'Jatadhar', 'Kailashwasi', 'kawachi', 'Kathor', 'Tripurantak',\n",
       "       'Vrishank', 'Vrushabharudha', 'Bhasmodhulitavigrahaya', 'Sampriya',\n",
       "       'Swarmayi', 'Traymurti', 'Anishawara', 'Sarvagya', 'Parmatma',\n",
       "       'Somasuryaagnilochana', 'Havi', 'Yagyamaya', 'Soma',\n",
       "       'Panchavaktra', 'Sadashiva', 'Vishveshwara', 'Veerabhadra',\n",
       "       'Gananatha', 'Prajapati', 'Hiranyareta', 'Durdharsha', 'Girisha',\n",
       "       'Anagha', 'Bujangabhushana', 'Bharga', 'Giridhanva', 'Giripriya',\n",
       "       'krittivasaa', 'Purarati', 'Bhagwaan', 'Pramathadhipa',\n",
       "       'Mrityunjaya', 'Sukshamatanu', 'Jagadvyapi', 'Jagadguru',\n",
       "       'Vyomakesha', 'Mahasenajanaka', 'Charuvikrama', 'Rudra',\n",
       "       'Bhootapati', 'Sthanu', 'Ahirbhudhanya', 'Digambara', 'Ashtamurti',\n",
       "       'Anekatma', 'Satvika', 'Shuddhavigraha', 'Shashvata',\n",
       "       'Khandaparshu', 'Aja', 'Pashvimochana', 'Mrida', 'Pashupati',\n",
       "       'Deva', 'Mahadeva', 'Avayaya', 'Hari', 'Bhagnetrabhid', 'Avayayat',\n",
       "       'Dakshadhwarahara', 'Har', 'Pushadantabhit', 'Avyagra',\n",
       "       'Sahsraksha', 'Sahasrapada', 'Apavargaprada', 'Ananta', 'Taraka',\n",
       "       'Parameshwara', 'Anaghaa', 'Agyangocharaa', 'Aadishakti', 'Kamala',\n",
       "       'Daridyaharini', 'Durga', 'Narayani', 'Padmavasini',\n",
       "       'Brahmandharini', 'Mahamaya', 'Mahalaxmi', 'Mahadevi', 'Mahavidya',\n",
       "       'Mahasarswati', 'Bhagwati', 'Vidyalaxmi', 'Dattatreya',\n",
       "       'Shankarpriya', 'Vedataman', 'Vishnu', 'Laxmipati', 'Krishna',\n",
       "       'Daityantak', 'Narayan', 'Parabrahma', 'Ram', 'Kalki', 'Shrikara',\n",
       "       'Kapila', 'Dhruva', 'Achyuta', 'Mukunda', 'Shrinivasa',\n",
       "       'Pradyumna', 'Purushottama', 'Adhokshaja', 'Gajendravarada',\n",
       "       'Aniruddha', 'Bhaktavatsala', 'Nara'], dtype=object)"
      ]
     },
     "execution_count": 24,
     "metadata": {},
     "output_type": "execute_result"
    }
   ],
   "source": [
    "# Finds unique values in name columns\n",
    "\n",
    "raw_df.name.unique()"
   ]
  },
  {
   "cell_type": "code",
   "execution_count": 25,
   "metadata": {},
   "outputs": [
    {
     "data": {
      "text/plain": [
       "array(['ॐ शिवाय नमः।', 'ॐ महेश्वराय नमः।', 'ॐ शंभवे नमः।',\n",
       "       'ॐ पिनाकिने नमः।', 'ॐ शशिशेखराय नमः।', 'ॐ वामदेवाय नमः।',\n",
       "       'ॐ विरूपाक्षाय नमः।', 'ॐ कपर्दिने नमः।', 'ॐ नीललोहिताय नमः।',\n",
       "       'ॐ शंकराय नमः।', 'ॐ शूलपाणये नमः।', 'ॐ खट्वांगिने नमः।',\n",
       "       'ॐ विष्णुवल्लभाय नमः।', 'ॐ शिपिविष्टाय नमः।', 'ॐ अंबिकानाथाय नमः।',\n",
       "       'ॐ श्रीकण्ठाय नमः।', 'ॐ भक्तवत्सलाय नमः।', 'ॐ भवाय नमः।',\n",
       "       'ॐ शर्वाय नमः।', 'ॐ त्रिलोकेशाय नमः।', 'ॐ शितिकण्ठाय नमः।',\n",
       "       'ॐ शिवा प्रियाय नमः।', 'ॐ उग्राय नमः।', 'ॐ कपालिने नमः।',\n",
       "       'ॐ कामारये नमः।', 'ॐ अन्धकासुरसूदनाय नमः।', 'ॐ गंगाधराय नमः।',\n",
       "       'ॐ ललाटाक्षाय नमः।', 'ॐ कालकालाय नमः।', 'ॐ कृपानिधये नमः।',\n",
       "       'ॐ भीमाय नमः।', 'ॐ परशुहस्ताय नमः।', 'ॐ मृगपाणये नमः।',\n",
       "       'ॐ जटाधराय नमः।', 'ॐ कैलाशवासिने नमः।', 'ॐ कवचिने नमः।',\n",
       "       'ॐ कठोराय नमः।', 'ॐ त्रिपुरान्तकाय नमः।', 'ॐ वृषांकाय नमः।',\n",
       "       'ॐ वृषभारूढाय नमः।', 'ॐ भस्मोद्धूलितविग्रहाय नमः।',\n",
       "       'ॐ सामप्रियाय नमः।', 'ॐ स्वरमयाय नमः।', 'ॐ त्रयीमूर्तये नमः।',\n",
       "       'ॐ अनीश्वराय नमः।', 'ॐ सर्वज्ञाय नमः।', 'ॐ परमात्मने नमः।',\n",
       "       'ॐ सोमसूर्याग्निलोचनाय नमः।', 'ॐ हविषे नमः।', 'ॐ यज्ञमयाय नमः।',\n",
       "       'ॐ सोमाय नमः।', 'ॐ पंचवक्त्राय नमः।', 'ॐ सदाशिवाय नमः।',\n",
       "       'ॐ विश्वेश्वराय नमः।', 'ॐ वीरभद्राय नमः।', 'ॐ गणनाथाय नमः।',\n",
       "       'ॐ प्रजापतये नमः।', 'ॐ हिरण्यरेतसे नमः।', 'ॐ दुर्धर्षाय नमः।',\n",
       "       'ॐ गिरीशाय नमः।', 'ॐ गिरिशाय नमः।', 'ॐ अनघाय नमः।',\n",
       "       'ॐ भुजंगभूषणाय नमः।', 'ॐ भर्गाय नमः।', 'ॐ गिरिधन्वने नमः।',\n",
       "       'ॐ गिरिप्रियाय नमः।', 'ॐ कृत्तिवाससे नमः।', 'ॐ पुरारातये नमः।',\n",
       "       'ॐ भगवते नमः।', 'ॐ प्रमथाधिपाय नमः।', 'ॐ मृत्युंजयाय नमः।',\n",
       "       'ॐ सूक्ष्मतनवे नमः।', 'ॐ जगद्व्यापिने नमः।', 'ॐ जगद्गुरुवे नमः।',\n",
       "       'ॐ व्योमकेशाय नमः।', 'ॐ महासेनजनकाय नमः।', 'ॐ चारुविक्रमाय नमः।',\n",
       "       'ॐ रुद्राय नमः।', 'ॐ भूतपतये नमः।', 'ॐ स्थाणवे नमः।',\n",
       "       'ॐ अहिर्बुध्न्याय नमः।', 'ॐ दिगंबराय नमः।', 'ॐ अष्टमूर्तये नमः।',\n",
       "       'ॐ अनेकात्मने नमः।', 'ॐ सात्विकाय नमः।', 'ॐ शुद्धविग्रहाय नमः।',\n",
       "       'ॐ शाश्वताय नमः।', 'ॐ खण्डपरशवे नमः।', 'ॐ अजाय नमः।',\n",
       "       'ॐ पाशविमोचकाय नमः।', 'ॐ मृडाय नमः।', 'ॐ पशुपतये नमः।',\n",
       "       'ॐ देवाय नमः।', 'ॐ महादेवाय नमः।', 'ॐ अव्ययाय नमः।', 'ॐ हरये नमः।',\n",
       "       'ॐ भगनेत्रभिदे नमः।', 'ॐ अव्यक्ताय नमः।', 'ॐ दक्षाध्वरहराय नमः।',\n",
       "       'ॐ हराय नमः।', 'ॐ पूषदन्तभिदे नमः।', 'ॐ अव्यग्राय नमः।',\n",
       "       'ॐ सहस्राक्षाय नमः।', 'ॐ सहस्रपदे नमः।', 'ॐ अपवर्गप्रदाय नमः।',\n",
       "       'ॐ अनन्ताय नमः।', 'ॐ तारकाय नमः।', 'ॐ परमेश्वराय नमः।',\n",
       "       'ॐ अनन्तायै नमः।', 'ॐ अनघायै नमः।', 'ॐ अज्ञानगोचरायै नमः।',\n",
       "       'ॐ आदिशक्तयै नमः।', 'ॐ कमलायै नमः।', 'ॐ दारिद्रयहारण्यै नमः।',\n",
       "       'ॐ दुर्गायै नमः।', 'ॐ नारायण्यै नमः।', 'ॐ पद्मवासिन्यै नमः।',\n",
       "       'ॐ ब्रह्माण्डधारिण्यै नमः।', 'ॐ महामायायै नमः।',\n",
       "       'ॐ महालक्ष्मै नमः।', 'ॐ महादेव्यै नमः।', 'ॐ महाविद्यायै नमः।',\n",
       "       'ॐ महासरस्वत्यै नमः।', 'ॐ भगवत्यै नमः।', 'ॐ विद्यालक्ष्म्यै नमः।',\n",
       "       'ॐ दत्तात्रेयाय नमः।', 'ॐ शङ्करप्रियाय नमः।', 'ॐ वेदात्मने नमः।',\n",
       "       'ॐ विष्णवे नमः।', 'ॐ लक्ष्मीपतये नमः।', 'ॐ कृष्णाय नमः।',\n",
       "       'ॐ दैत्यान्तकाय नमः।', 'ॐ नारायणाय नमः।', 'ॐ परब्रह्मणे नमः।',\n",
       "       'ॐ रामाय नमः।', 'ॐ कल्किने नमः।', 'ॐ श्रीकराय नमः।',\n",
       "       'ॐ कपिलाय नमः।', 'ॐ ध्रुवाय नमः।', 'ॐ अच्युताय नमः।',\n",
       "       'ॐ मुकुन्दाय नमः।', 'ॐ श्रीनिवासाय नमः।', 'ॐ प्रद्युम्नाय नमः।',\n",
       "       'ॐ पुरुषोत्तमाय नमः।', 'ॐ अधोक्षजाय नमः।', 'ॐ गजेन्द्रवरदाय नमः।',\n",
       "       'ॐ अनिरुद्धाय नमः।', 'ॐ नराय नमः।'], dtype=object)"
      ]
     },
     "execution_count": 25,
     "metadata": {},
     "output_type": "execute_result"
    }
   ],
   "source": [
    "# Finds unique values in sanskrit column\n",
    "\n",
    "raw_df.sanskrit.unique()"
   ]
  },
  {
   "cell_type": "code",
   "execution_count": 26,
   "metadata": {},
   "outputs": [
    {
     "data": {
      "text/plain": [
       "array(['Always Pure', 'Lord of gods', 'One Who Bestows Prosperity',\n",
       "       'One Who Has A Bow In His Hand',\n",
       "       'The God Who Wears The Crescent Moon In His Hair',\n",
       "       'The God Who Is Pleasing And Auspicious In Every Way',\n",
       "       'Lord Shiva With Oblique Eyes',\n",
       "       'The Lord With Thickly Matted Hair',\n",
       "       'The one with Red & Blue color',\n",
       "       'One Who Gives Happiness And prosperity',\n",
       "       'The One Who Carries A Trident',\n",
       "       'The God Who Carries A Knurled Club (Khatvanga)',\n",
       "       'The One Who Is Dear To Lord Vishnu',\n",
       "       'The Lord Whose Form Emits Great Rays Of Light',\n",
       "       'Consort of Ambika (Parvati)', 'Of glorious neck',\n",
       "       'The One Who Is Favourably Inclined Towards His Devotees',\n",
       "       'The god who is existence itself', 'Remover Of all troubles',\n",
       "       'The Lord Of All three Worlds', 'The Lord Who has White Neck',\n",
       "       'Beloved Of parvati', 'The One Who Has Extremely Fierce Nature',\n",
       "       'One Who Wears A Necklace Of Skulls', 'Enemy Of Kamdeva',\n",
       "       'The Lord Who Killed Andhaka Asura',\n",
       "       'The God Who holds Ganges River In His Hairs',\n",
       "       'One Who has an Eye In his forehead', 'He is the death Of Ocean',\n",
       "       'The God Who Is The Treasure Of Compassion',\n",
       "       'The One Who has fearful Form', 'The God Who hold axe In hands',\n",
       "       'The God Who holds deer in Hands',\n",
       "       'The God Who Keeps Tress (Jata)', 'Native Of Kailasha',\n",
       "       'The God Who Possess Armour', 'The God who has Strong Body',\n",
       "       'The God Who Killed Tripurasura',\n",
       "       'The God Who Has A Flag With A Symbol Of Bull',\n",
       "       'The One Who Rides Bull',\n",
       "       'The One Who Applies Ashes All Over The Body',\n",
       "       'The One Who Loves With Equality',\n",
       "       'The God Who Lives In All Seven Notes',\n",
       "       'The One Who is Combination of Three God',\n",
       "       'The One Who Does Not Have Any Lord',\n",
       "       'The One Who Knows Everything', \"Everyone's Own Soul\",\n",
       "       'The One Who Has Eyes In The Form Of Sun, Moon And Fire',\n",
       "       'He Who Is Wealthy In The Form Of Ahuti',\n",
       "       'The Architect Of All Sacrificial Rites',\n",
       "       'The One Who Includes The Form Of Uma',\n",
       "       'God Of The Five Activities',\n",
       "       'The One Who Is Eternally Auspicious', 'Lord Of The Universe',\n",
       "       'Who Is Violent , Yet Peaceful', 'God Of The Ganas',\n",
       "       'The One Who Is The Creator Of Dynasty',\n",
       "       'The One Who Emanates Golden Souls',\n",
       "       'The One who Is Unconquerable', 'Lord Of Mountains',\n",
       "       'The God Who Sleeps On Kailash Mountain', 'He Who Is Pure',\n",
       "       'Lord Adorned With Golden Snakes', 'Lord Who Ends All Sins',\n",
       "       'God Whose Weapon Is A Mountain', 'Lord Who Is Fond Of Mountains',\n",
       "       'God Who Wears Clothes Of Elephant Skin',\n",
       "       'Destroyer OF Town Or \"Pur\" Named Enemy', 'God Of Prosperity',\n",
       "       'God Who Is Served By Goblins', 'Victor Of Death',\n",
       "       'God Who Has A Subtle Body', 'God Who Lives In The World',\n",
       "       'Guru Of All The Worlds', 'Whose Hair Spreads In The Sky',\n",
       "       'Father Of Kartikya', 'The Guardian Of Wandering Pilgrims',\n",
       "       'The One Who Gets Sad By The Pain Of Devotees',\n",
       "       'Lord Of Panchabhoota Or Bhootapreta', 'Firm And Immovable Deity',\n",
       "       'The One Who Possess Kundalini',\n",
       "       'The God Whose Robes Is The Cosmos', 'Lord Who Has Eight Forms',\n",
       "       'The God Who Possess Many Forms', 'Lord Of Boundless Energy',\n",
       "       'Lord Of Pure Soul', 'Lord Who Is Eternal And Endless',\n",
       "       'Lord Who Wears Broken Axe', 'The One Who Is Boundless',\n",
       "       'Lord Who Releases All Fetters', 'The Lord Who Shows Only Mercy',\n",
       "       'Lord Of Animals', 'Lord Of Devas', 'Greatest Of The Gods',\n",
       "       'The One Who Never Subject To Change', 'Same As Lord Vishnu',\n",
       "       \"The Lord Who Damaged Bhaga's Eye\", 'Shiva Who Is Unseen',\n",
       "       \"Destroyer Of Daksha's Conceited Sacrifice (Yagya)\",\n",
       "       'The Lord Who Dissolves All Bondage And Sins',\n",
       "       'One Who Punished Pushan', 'Lord Who Is Steady And Unwavering',\n",
       "       'One Who Has Limitless Forms',\n",
       "       'The Lord Who Is Standing And Walking Everywhere',\n",
       "       'Lord Who Gives And Takes All Things', 'The One Who Is unending',\n",
       "       'The Lord Who Is Great Liberator Of Mankind', 'The Great God',\n",
       "       'The Infinite', 'She Who Is Pure', 'Remover Of Agyana',\n",
       "       'The Primeval Power', 'Name of laxmi ; Lotus like',\n",
       "       'Remover of Poverty', 'Invicible One', 'Narayana\"s Wife',\n",
       "       'She who lives in lotus', 'One who hold Cosmos with her power',\n",
       "       'Supreme Divine Power Of Illusion',\n",
       "       'Supreme Goddess Of Fortune, Wealth', 'Great Goddess',\n",
       "       'Supreme Goddess Of Vidya', 'Supreme Goddess Of Knowledge, Bliss',\n",
       "       'Goddess Counterpart Of Shiva', 'Giver Of Knowledge & Wealth',\n",
       "       'Grand Teacher (Guru) in the Universe',\n",
       "       'Beloved Of Shankara (Shiva)', 'Spirit Of the Vedas',\n",
       "       'All Prevailing Lord', 'Consort Of Goddess Laxmi',\n",
       "       'Dark Complexioned Lord', 'Destroyer Of Evils',\n",
       "       'Refugee Of Everyone', 'The supreme Absolute Truth',\n",
       "       'Seventh Incarnation Of Lord Vishnu',\n",
       "       'Another Incarnation Vishnu, Will Appear at the End of Kaliyuga',\n",
       "       'One Who Gives Sri', 'The Great Sage Kapila',\n",
       "       'The Changeless in the Midst of Changes', 'Infallible Lord',\n",
       "       'The Endless Lord', 'The Giver of Liberation',\n",
       "       'The Permanent Abode of Shree', 'Very Rich', 'The Supreme Soul',\n",
       "       'One Whose Vitality Never Flows Downwards',\n",
       "       'Lord Vishnu Gave a Benediction to Gajendra (Elephant)',\n",
       "       'One Who Cannot Be Obstructed', 'One Who Loves His Devotees',\n",
       "       'The Guide'], dtype=object)"
      ]
     },
     "execution_count": 26,
     "metadata": {},
     "output_type": "execute_result"
    }
   ],
   "source": [
    "# Finds unique values in meaning columns\n",
    "\n",
    "raw_df.meaning.unique()"
   ]
  },
  {
   "cell_type": "code",
   "execution_count": 27,
   "metadata": {},
   "outputs": [
    {
     "data": {
      "application/javascript": [
       "window.require && require([\"base/js/namespace\"],function(Jupyter){Jupyter.notebook.save_checkpoint()})"
      ],
      "text/plain": [
       "<IPython.core.display.Javascript object>"
      ]
     },
     "metadata": {},
     "output_type": "display_data"
    },
    {
     "name": "stdout",
     "output_type": "stream",
     "text": [
      "[jovian] Attempting to save notebook..\u001b[0m\n",
      "[jovian] Updating notebook \"avadhoot-kesarkar/ak-names\" on https://jovian.ml/\u001b[0m\n",
      "[jovian] Uploading notebook..\u001b[0m\n",
      "[jovian] Capturing environment..\u001b[0m\n",
      "[jovian] Committed successfully! https://jovian.ml/avadhoot-kesarkar/ak-names\u001b[0m\n"
     ]
    },
    {
     "data": {
      "text/plain": [
       "'https://jovian.ml/avadhoot-kesarkar/ak-names'"
      ]
     },
     "execution_count": 27,
     "metadata": {},
     "output_type": "execute_result"
    }
   ],
   "source": [
    "jovian.commit()"
   ]
  },
  {
   "cell_type": "markdown",
   "metadata": {},
   "source": [
    "## Asking and Answering Questions\n"
   ]
  },
  {
   "cell_type": "markdown",
   "metadata": {},
   "source": [
    "### Q1: Make Separate dataframes according to \"belong_to\" column values"
   ]
  },
  {
   "cell_type": "code",
   "execution_count": 28,
   "metadata": {},
   "outputs": [],
   "source": [
    "# make shiva names dataframe; here we use simple binary fuction for checking\n",
    "\n",
    "shiva_df = raw_df[raw_df.belongs_to == 'Shiva']\n",
    "\n",
    "#Following command can also be used  but below command assign boolean values \"True\" to Shiva & \"False\" to rest \n",
    "#but we have to perform more operations on it.\n",
    "#shiva_df = raw_df.belongs_to == 'Shiva'"
   ]
  },
  {
   "cell_type": "code",
   "execution_count": 29,
   "metadata": {},
   "outputs": [
    {
     "data": {
      "text/html": [
       "<div>\n",
       "<style scoped>\n",
       "    .dataframe tbody tr th:only-of-type {\n",
       "        vertical-align: middle;\n",
       "    }\n",
       "\n",
       "    .dataframe tbody tr th {\n",
       "        vertical-align: top;\n",
       "    }\n",
       "\n",
       "    .dataframe thead th {\n",
       "        text-align: right;\n",
       "    }\n",
       "</style>\n",
       "<table border=\"1\" class=\"dataframe\">\n",
       "  <thead>\n",
       "    <tr style=\"text-align: right;\">\n",
       "      <th></th>\n",
       "      <th>belongs_to</th>\n",
       "      <th>name</th>\n",
       "      <th>meaning</th>\n",
       "      <th>mantra</th>\n",
       "      <th>sanskrit</th>\n",
       "    </tr>\n",
       "  </thead>\n",
       "  <tbody>\n",
       "    <tr>\n",
       "      <th>0</th>\n",
       "      <td>Shiva</td>\n",
       "      <td>Shivay</td>\n",
       "      <td>Always Pure</td>\n",
       "      <td>Om Shivay Namah</td>\n",
       "      <td>ॐ शिवाय नमः।</td>\n",
       "    </tr>\n",
       "    <tr>\n",
       "      <th>1</th>\n",
       "      <td>Shiva</td>\n",
       "      <td>Maheshwar</td>\n",
       "      <td>Lord of gods</td>\n",
       "      <td>Om Maheshwaraya Namah</td>\n",
       "      <td>ॐ महेश्वराय नमः।</td>\n",
       "    </tr>\n",
       "    <tr>\n",
       "      <th>2</th>\n",
       "      <td>Shiva</td>\n",
       "      <td>Shambhu</td>\n",
       "      <td>One Who Bestows Prosperity</td>\n",
       "      <td>Om Shambhave Namah</td>\n",
       "      <td>ॐ शंभवे नमः।</td>\n",
       "    </tr>\n",
       "    <tr>\n",
       "      <th>3</th>\n",
       "      <td>Shiva</td>\n",
       "      <td>Pinakine</td>\n",
       "      <td>One Who Has A Bow In His Hand</td>\n",
       "      <td>Om Pinakine namah</td>\n",
       "      <td>ॐ पिनाकिने नमः।</td>\n",
       "    </tr>\n",
       "    <tr>\n",
       "      <th>4</th>\n",
       "      <td>Shiva</td>\n",
       "      <td>Shashi Shekhara</td>\n",
       "      <td>The God Who Wears The Crescent Moon In His Hair</td>\n",
       "      <td>Om Shashishekharay Namah</td>\n",
       "      <td>ॐ शशिशेखराय नमः।</td>\n",
       "    </tr>\n",
       "    <tr>\n",
       "      <th>...</th>\n",
       "      <td>...</td>\n",
       "      <td>...</td>\n",
       "      <td>...</td>\n",
       "      <td>...</td>\n",
       "      <td>...</td>\n",
       "    </tr>\n",
       "    <tr>\n",
       "      <th>103</th>\n",
       "      <td>Shiva</td>\n",
       "      <td>Sahasrapada</td>\n",
       "      <td>The Lord Who Is Standing And Walking Everywhere</td>\n",
       "      <td>Om Sahasrapade Namah।</td>\n",
       "      <td>ॐ सहस्रपदे नमः।</td>\n",
       "    </tr>\n",
       "    <tr>\n",
       "      <th>104</th>\n",
       "      <td>Shiva</td>\n",
       "      <td>Apavargaprada</td>\n",
       "      <td>Lord Who Gives And Takes All Things</td>\n",
       "      <td>Om Apavargapradaya Namah।</td>\n",
       "      <td>ॐ अपवर्गप्रदाय नमः।</td>\n",
       "    </tr>\n",
       "    <tr>\n",
       "      <th>105</th>\n",
       "      <td>Shiva</td>\n",
       "      <td>Ananta</td>\n",
       "      <td>The One Who Is unending</td>\n",
       "      <td>Om Anantaya Namah।</td>\n",
       "      <td>ॐ अनन्ताय नमः।</td>\n",
       "    </tr>\n",
       "    <tr>\n",
       "      <th>106</th>\n",
       "      <td>Shiva</td>\n",
       "      <td>Taraka</td>\n",
       "      <td>The Lord Who Is Great Liberator Of Mankind</td>\n",
       "      <td>Om Tarakaya Namah।</td>\n",
       "      <td>ॐ तारकाय नमः।</td>\n",
       "    </tr>\n",
       "    <tr>\n",
       "      <th>107</th>\n",
       "      <td>Shiva</td>\n",
       "      <td>Parameshwara</td>\n",
       "      <td>The Great God</td>\n",
       "      <td>Om Parameshwaraya Namah।</td>\n",
       "      <td>ॐ परमेश्वराय नमः।</td>\n",
       "    </tr>\n",
       "  </tbody>\n",
       "</table>\n",
       "<p>108 rows × 5 columns</p>\n",
       "</div>"
      ],
      "text/plain": [
       "    belongs_to             name  \\\n",
       "0        Shiva           Shivay   \n",
       "1        Shiva        Maheshwar   \n",
       "2        Shiva          Shambhu   \n",
       "3        Shiva         Pinakine   \n",
       "4        Shiva  Shashi Shekhara   \n",
       "..         ...              ...   \n",
       "103      Shiva      Sahasrapada   \n",
       "104      Shiva    Apavargaprada   \n",
       "105      Shiva           Ananta   \n",
       "106      Shiva           Taraka   \n",
       "107      Shiva     Parameshwara   \n",
       "\n",
       "                                             meaning  \\\n",
       "0                                        Always Pure   \n",
       "1                                       Lord of gods   \n",
       "2                         One Who Bestows Prosperity   \n",
       "3                      One Who Has A Bow In His Hand   \n",
       "4    The God Who Wears The Crescent Moon In His Hair   \n",
       "..                                               ...   \n",
       "103  The Lord Who Is Standing And Walking Everywhere   \n",
       "104              Lord Who Gives And Takes All Things   \n",
       "105                          The One Who Is unending   \n",
       "106       The Lord Who Is Great Liberator Of Mankind   \n",
       "107                                    The Great God   \n",
       "\n",
       "                        mantra             sanskrit  \n",
       "0              Om Shivay Namah         ॐ शिवाय नमः।  \n",
       "1        Om Maheshwaraya Namah     ॐ महेश्वराय नमः।  \n",
       "2           Om Shambhave Namah         ॐ शंभवे नमः।  \n",
       "3            Om Pinakine namah      ॐ पिनाकिने नमः।  \n",
       "4     Om Shashishekharay Namah     ॐ शशिशेखराय नमः।  \n",
       "..                         ...                  ...  \n",
       "103      Om Sahasrapade Namah।      ॐ सहस्रपदे नमः।  \n",
       "104  Om Apavargapradaya Namah।  ॐ अपवर्गप्रदाय नमः।  \n",
       "105         Om Anantaya Namah।       ॐ अनन्ताय नमः।  \n",
       "106         Om Tarakaya Namah।        ॐ तारकाय नमः।  \n",
       "107   Om Parameshwaraya Namah।    ॐ परमेश्वराय नमः।  \n",
       "\n",
       "[108 rows x 5 columns]"
      ]
     },
     "execution_count": 29,
     "metadata": {},
     "output_type": "execute_result"
    }
   ],
   "source": [
    "shiva_df"
   ]
  },
  {
   "cell_type": "code",
   "execution_count": 30,
   "metadata": {},
   "outputs": [
    {
     "data": {
      "text/html": [
       "<div>\n",
       "<style scoped>\n",
       "    .dataframe tbody tr th:only-of-type {\n",
       "        vertical-align: middle;\n",
       "    }\n",
       "\n",
       "    .dataframe tbody tr th {\n",
       "        vertical-align: top;\n",
       "    }\n",
       "\n",
       "    .dataframe thead th {\n",
       "        text-align: right;\n",
       "    }\n",
       "</style>\n",
       "<table border=\"1\" class=\"dataframe\">\n",
       "  <thead>\n",
       "    <tr style=\"text-align: right;\">\n",
       "      <th></th>\n",
       "      <th>belongs_to</th>\n",
       "      <th>name</th>\n",
       "      <th>meaning</th>\n",
       "      <th>mantra</th>\n",
       "      <th>sanskrit</th>\n",
       "    </tr>\n",
       "  </thead>\n",
       "  <tbody>\n",
       "    <tr>\n",
       "      <th>count</th>\n",
       "      <td>108</td>\n",
       "      <td>108</td>\n",
       "      <td>108</td>\n",
       "      <td>108</td>\n",
       "      <td>108</td>\n",
       "    </tr>\n",
       "    <tr>\n",
       "      <th>unique</th>\n",
       "      <td>1</td>\n",
       "      <td>107</td>\n",
       "      <td>108</td>\n",
       "      <td>107</td>\n",
       "      <td>108</td>\n",
       "    </tr>\n",
       "    <tr>\n",
       "      <th>top</th>\n",
       "      <td>Shiva</td>\n",
       "      <td>Girisha</td>\n",
       "      <td>Lord Of Pure Soul</td>\n",
       "      <td>Om Girishaya Namah</td>\n",
       "      <td>ॐ कपालिने नमः।</td>\n",
       "    </tr>\n",
       "    <tr>\n",
       "      <th>freq</th>\n",
       "      <td>108</td>\n",
       "      <td>2</td>\n",
       "      <td>1</td>\n",
       "      <td>2</td>\n",
       "      <td>1</td>\n",
       "    </tr>\n",
       "  </tbody>\n",
       "</table>\n",
       "</div>"
      ],
      "text/plain": [
       "       belongs_to     name            meaning              mantra  \\\n",
       "count         108      108                108                 108   \n",
       "unique          1      107                108                 107   \n",
       "top         Shiva  Girisha  Lord Of Pure Soul  Om Girishaya Namah   \n",
       "freq          108        2                  1                   2   \n",
       "\n",
       "              sanskrit  \n",
       "count              108  \n",
       "unique             108  \n",
       "top     ॐ कपालिने नमः।  \n",
       "freq                 1  "
      ]
     },
     "execution_count": 30,
     "metadata": {},
     "output_type": "execute_result"
    }
   ],
   "source": [
    "shiva_df.describe()"
   ]
  },
  {
   "cell_type": "code",
   "execution_count": 31,
   "metadata": {},
   "outputs": [],
   "source": [
    "# make Devi names dataframe; here we use simple binary fuction for checking\n",
    "\n",
    "devi_df = raw_df[raw_df.belongs_to == 'Devi']"
   ]
  },
  {
   "cell_type": "code",
   "execution_count": 32,
   "metadata": {},
   "outputs": [
    {
     "data": {
      "text/html": [
       "<div>\n",
       "<style scoped>\n",
       "    .dataframe tbody tr th:only-of-type {\n",
       "        vertical-align: middle;\n",
       "    }\n",
       "\n",
       "    .dataframe tbody tr th {\n",
       "        vertical-align: top;\n",
       "    }\n",
       "\n",
       "    .dataframe thead th {\n",
       "        text-align: right;\n",
       "    }\n",
       "</style>\n",
       "<table border=\"1\" class=\"dataframe\">\n",
       "  <thead>\n",
       "    <tr style=\"text-align: right;\">\n",
       "      <th></th>\n",
       "      <th>belongs_to</th>\n",
       "      <th>name</th>\n",
       "      <th>meaning</th>\n",
       "      <th>mantra</th>\n",
       "      <th>sanskrit</th>\n",
       "    </tr>\n",
       "  </thead>\n",
       "  <tbody>\n",
       "    <tr>\n",
       "      <th>108</th>\n",
       "      <td>Devi</td>\n",
       "      <td>Ananta</td>\n",
       "      <td>The Infinite</td>\n",
       "      <td>Om Anantayai Namah</td>\n",
       "      <td>ॐ अनन्तायै नमः।</td>\n",
       "    </tr>\n",
       "    <tr>\n",
       "      <th>109</th>\n",
       "      <td>Devi</td>\n",
       "      <td>Anaghaa</td>\n",
       "      <td>She Who Is Pure</td>\n",
       "      <td>Om Anaghayai Namah</td>\n",
       "      <td>ॐ अनघायै नमः।</td>\n",
       "    </tr>\n",
       "    <tr>\n",
       "      <th>110</th>\n",
       "      <td>Devi</td>\n",
       "      <td>Agyangocharaa</td>\n",
       "      <td>Remover Of Agyana</td>\n",
       "      <td>Om Agyangocharayai Namah</td>\n",
       "      <td>ॐ अज्ञानगोचरायै नमः।</td>\n",
       "    </tr>\n",
       "    <tr>\n",
       "      <th>111</th>\n",
       "      <td>Devi</td>\n",
       "      <td>Aadishakti</td>\n",
       "      <td>The Primeval Power</td>\n",
       "      <td>Om Aadishakatayaii Namah</td>\n",
       "      <td>ॐ आदिशक्तयै नमः।</td>\n",
       "    </tr>\n",
       "    <tr>\n",
       "      <th>112</th>\n",
       "      <td>Devi</td>\n",
       "      <td>Kamala</td>\n",
       "      <td>Name of laxmi ; Lotus like</td>\n",
       "      <td>Om Kamalayaii Namah</td>\n",
       "      <td>ॐ कमलायै नमः।</td>\n",
       "    </tr>\n",
       "    <tr>\n",
       "      <th>113</th>\n",
       "      <td>Devi</td>\n",
       "      <td>Daridyaharini</td>\n",
       "      <td>Remover of Poverty</td>\n",
       "      <td>Om Daridryaharinyaii Namah</td>\n",
       "      <td>ॐ दारिद्रयहारण्यै नमः।</td>\n",
       "    </tr>\n",
       "    <tr>\n",
       "      <th>114</th>\n",
       "      <td>Devi</td>\n",
       "      <td>Durga</td>\n",
       "      <td>Invicible One</td>\n",
       "      <td>Om Durgayaii Namah</td>\n",
       "      <td>ॐ दुर्गायै नमः।</td>\n",
       "    </tr>\n",
       "    <tr>\n",
       "      <th>115</th>\n",
       "      <td>Devi</td>\n",
       "      <td>Narayani</td>\n",
       "      <td>Narayana\"s Wife</td>\n",
       "      <td>Om Narayanyaii Namah</td>\n",
       "      <td>ॐ नारायण्यै नमः।</td>\n",
       "    </tr>\n",
       "    <tr>\n",
       "      <th>116</th>\n",
       "      <td>Devi</td>\n",
       "      <td>Padmavasini</td>\n",
       "      <td>She who lives in lotus</td>\n",
       "      <td>Om Padmavasinyaii Namah</td>\n",
       "      <td>ॐ पद्मवासिन्यै नमः।</td>\n",
       "    </tr>\n",
       "    <tr>\n",
       "      <th>117</th>\n",
       "      <td>Devi</td>\n",
       "      <td>Brahmandharini</td>\n",
       "      <td>One who hold Cosmos with her power</td>\n",
       "      <td>Om Brahmandadharinyaii Namah</td>\n",
       "      <td>ॐ ब्रह्माण्डधारिण्यै नमः।</td>\n",
       "    </tr>\n",
       "    <tr>\n",
       "      <th>118</th>\n",
       "      <td>Devi</td>\n",
       "      <td>Mahamaya</td>\n",
       "      <td>Supreme Divine Power Of Illusion</td>\n",
       "      <td>Om Mahamayayaii Namah</td>\n",
       "      <td>ॐ महामायायै नमः।</td>\n",
       "    </tr>\n",
       "    <tr>\n",
       "      <th>119</th>\n",
       "      <td>Devi</td>\n",
       "      <td>Mahalaxmi</td>\n",
       "      <td>Supreme Goddess Of Fortune, Wealth</td>\n",
       "      <td>Om Mahalaxmyaii Namah</td>\n",
       "      <td>ॐ महालक्ष्मै नमः।</td>\n",
       "    </tr>\n",
       "    <tr>\n",
       "      <th>120</th>\n",
       "      <td>Devi</td>\n",
       "      <td>Mahadevi</td>\n",
       "      <td>Great Goddess</td>\n",
       "      <td>Om Mahadevyaii Namah</td>\n",
       "      <td>ॐ महादेव्यै नमः।</td>\n",
       "    </tr>\n",
       "    <tr>\n",
       "      <th>121</th>\n",
       "      <td>Devi</td>\n",
       "      <td>Mahavidya</td>\n",
       "      <td>Supreme Goddess Of Vidya</td>\n",
       "      <td>Om Mahavidyayaii Namah</td>\n",
       "      <td>ॐ महाविद्यायै नमः।</td>\n",
       "    </tr>\n",
       "    <tr>\n",
       "      <th>122</th>\n",
       "      <td>Devi</td>\n",
       "      <td>Mahasarswati</td>\n",
       "      <td>Supreme Goddess Of Knowledge, Bliss</td>\n",
       "      <td>Om Mahasarswatyaii Namah</td>\n",
       "      <td>ॐ महासरस्वत्यै नमः।</td>\n",
       "    </tr>\n",
       "    <tr>\n",
       "      <th>123</th>\n",
       "      <td>Devi</td>\n",
       "      <td>Bhagwati</td>\n",
       "      <td>Goddess Counterpart Of Shiva</td>\n",
       "      <td>Om Bhagwatyaii Namah</td>\n",
       "      <td>ॐ भगवत्यै नमः।</td>\n",
       "    </tr>\n",
       "    <tr>\n",
       "      <th>124</th>\n",
       "      <td>Devi</td>\n",
       "      <td>Vidyalaxmi</td>\n",
       "      <td>Giver Of Knowledge &amp; Wealth</td>\n",
       "      <td>Om Vidyalaxmyaii Namah</td>\n",
       "      <td>ॐ विद्यालक्ष्म्यै नमः।</td>\n",
       "    </tr>\n",
       "  </tbody>\n",
       "</table>\n",
       "</div>"
      ],
      "text/plain": [
       "    belongs_to            name                              meaning  \\\n",
       "108       Devi          Ananta                         The Infinite   \n",
       "109       Devi         Anaghaa                      She Who Is Pure   \n",
       "110       Devi   Agyangocharaa                    Remover Of Agyana   \n",
       "111       Devi      Aadishakti                   The Primeval Power   \n",
       "112       Devi          Kamala           Name of laxmi ; Lotus like   \n",
       "113       Devi   Daridyaharini                   Remover of Poverty   \n",
       "114       Devi           Durga                        Invicible One   \n",
       "115       Devi        Narayani                      Narayana\"s Wife   \n",
       "116       Devi     Padmavasini               She who lives in lotus   \n",
       "117       Devi  Brahmandharini   One who hold Cosmos with her power   \n",
       "118       Devi        Mahamaya     Supreme Divine Power Of Illusion   \n",
       "119       Devi       Mahalaxmi   Supreme Goddess Of Fortune, Wealth   \n",
       "120       Devi        Mahadevi                        Great Goddess   \n",
       "121       Devi       Mahavidya             Supreme Goddess Of Vidya   \n",
       "122       Devi    Mahasarswati  Supreme Goddess Of Knowledge, Bliss   \n",
       "123       Devi        Bhagwati         Goddess Counterpart Of Shiva   \n",
       "124       Devi      Vidyalaxmi          Giver Of Knowledge & Wealth   \n",
       "\n",
       "                           mantra                   sanskrit  \n",
       "108            Om Anantayai Namah            ॐ अनन्तायै नमः।  \n",
       "109            Om Anaghayai Namah              ॐ अनघायै नमः।  \n",
       "110      Om Agyangocharayai Namah       ॐ अज्ञानगोचरायै नमः।  \n",
       "111      Om Aadishakatayaii Namah           ॐ आदिशक्तयै नमः।  \n",
       "112           Om Kamalayaii Namah              ॐ कमलायै नमः।  \n",
       "113    Om Daridryaharinyaii Namah     ॐ दारिद्रयहारण्यै नमः।  \n",
       "114            Om Durgayaii Namah            ॐ दुर्गायै नमः।  \n",
       "115          Om Narayanyaii Namah           ॐ नारायण्यै नमः।  \n",
       "116       Om Padmavasinyaii Namah        ॐ पद्मवासिन्यै नमः।  \n",
       "117  Om Brahmandadharinyaii Namah  ॐ ब्रह्माण्डधारिण्यै नमः।  \n",
       "118         Om Mahamayayaii Namah           ॐ महामायायै नमः।  \n",
       "119         Om Mahalaxmyaii Namah          ॐ महालक्ष्मै नमः।  \n",
       "120          Om Mahadevyaii Namah           ॐ महादेव्यै नमः।  \n",
       "121        Om Mahavidyayaii Namah         ॐ महाविद्यायै नमः।  \n",
       "122      Om Mahasarswatyaii Namah        ॐ महासरस्वत्यै नमः।  \n",
       "123          Om Bhagwatyaii Namah             ॐ भगवत्यै नमः।  \n",
       "124        Om Vidyalaxmyaii Namah     ॐ विद्यालक्ष्म्यै नमः।  "
      ]
     },
     "execution_count": 32,
     "metadata": {},
     "output_type": "execute_result"
    }
   ],
   "source": [
    "devi_df"
   ]
  },
  {
   "cell_type": "code",
   "execution_count": 33,
   "metadata": {},
   "outputs": [
    {
     "data": {
      "text/html": [
       "<div>\n",
       "<style scoped>\n",
       "    .dataframe tbody tr th:only-of-type {\n",
       "        vertical-align: middle;\n",
       "    }\n",
       "\n",
       "    .dataframe tbody tr th {\n",
       "        vertical-align: top;\n",
       "    }\n",
       "\n",
       "    .dataframe thead th {\n",
       "        text-align: right;\n",
       "    }\n",
       "</style>\n",
       "<table border=\"1\" class=\"dataframe\">\n",
       "  <thead>\n",
       "    <tr style=\"text-align: right;\">\n",
       "      <th></th>\n",
       "      <th>belongs_to</th>\n",
       "      <th>name</th>\n",
       "      <th>meaning</th>\n",
       "      <th>mantra</th>\n",
       "      <th>sanskrit</th>\n",
       "    </tr>\n",
       "  </thead>\n",
       "  <tbody>\n",
       "    <tr>\n",
       "      <th>count</th>\n",
       "      <td>17</td>\n",
       "      <td>17</td>\n",
       "      <td>17</td>\n",
       "      <td>17</td>\n",
       "      <td>17</td>\n",
       "    </tr>\n",
       "    <tr>\n",
       "      <th>unique</th>\n",
       "      <td>1</td>\n",
       "      <td>17</td>\n",
       "      <td>17</td>\n",
       "      <td>17</td>\n",
       "      <td>17</td>\n",
       "    </tr>\n",
       "    <tr>\n",
       "      <th>top</th>\n",
       "      <td>Devi</td>\n",
       "      <td>Aadishakti</td>\n",
       "      <td>Supreme Divine Power Of Illusion</td>\n",
       "      <td>Om Daridryaharinyaii Namah</td>\n",
       "      <td>ॐ विद्यालक्ष्म्यै नमः।</td>\n",
       "    </tr>\n",
       "    <tr>\n",
       "      <th>freq</th>\n",
       "      <td>17</td>\n",
       "      <td>1</td>\n",
       "      <td>1</td>\n",
       "      <td>1</td>\n",
       "      <td>1</td>\n",
       "    </tr>\n",
       "  </tbody>\n",
       "</table>\n",
       "</div>"
      ],
      "text/plain": [
       "       belongs_to        name                           meaning  \\\n",
       "count          17          17                                17   \n",
       "unique          1          17                                17   \n",
       "top          Devi  Aadishakti  Supreme Divine Power Of Illusion   \n",
       "freq           17           1                                 1   \n",
       "\n",
       "                            mantra                sanskrit  \n",
       "count                           17                      17  \n",
       "unique                          17                      17  \n",
       "top     Om Daridryaharinyaii Namah  ॐ विद्यालक्ष्म्यै नमः।  \n",
       "freq                             1                       1  "
      ]
     },
     "execution_count": 33,
     "metadata": {},
     "output_type": "execute_result"
    }
   ],
   "source": [
    "devi_df.describe()"
   ]
  },
  {
   "cell_type": "code",
   "execution_count": 34,
   "metadata": {},
   "outputs": [],
   "source": [
    "#Now\n",
    "#Below command assign boolean values \"True\" to 'narayan' & \"False\" to rest data in \"belong_to\" column \n",
    "\n",
    "narayan_df = raw_df.belongs_to == 'Narayan'"
   ]
  },
  {
   "cell_type": "code",
   "execution_count": 35,
   "metadata": {},
   "outputs": [
    {
     "data": {
      "text/plain": [
       "0      False\n",
       "1      False\n",
       "2      False\n",
       "3      False\n",
       "4      False\n",
       "       ...  \n",
       "145     True\n",
       "146     True\n",
       "147     True\n",
       "148     True\n",
       "149     True\n",
       "Name: belongs_to, Length: 150, dtype: bool"
      ]
     },
     "execution_count": 35,
     "metadata": {},
     "output_type": "execute_result"
    }
   ],
   "source": [
    "# True assigned to narayan & others assigned as false\n",
    "\n",
    "narayan_df"
   ]
  },
  {
   "cell_type": "code",
   "execution_count": 36,
   "metadata": {},
   "outputs": [
    {
     "data": {
      "text/plain": [
       "count       150\n",
       "unique        2\n",
       "top       False\n",
       "freq        125\n",
       "Name: belongs_to, dtype: object"
      ]
     },
     "execution_count": 36,
     "metadata": {},
     "output_type": "execute_result"
    }
   ],
   "source": [
    "''' Result shows \n",
    "False value is most assigned with 125 times i.e. 150-125 = 25\n",
    "25 True values i.e. 25 names are belongs to Narayan\n",
    "'''\n",
    "narayan_df.describe()"
   ]
  },
  {
   "cell_type": "code",
   "execution_count": 37,
   "metadata": {},
   "outputs": [
    {
     "data": {
      "text/html": [
       "<div>\n",
       "<style scoped>\n",
       "    .dataframe tbody tr th:only-of-type {\n",
       "        vertical-align: middle;\n",
       "    }\n",
       "\n",
       "    .dataframe tbody tr th {\n",
       "        vertical-align: top;\n",
       "    }\n",
       "\n",
       "    .dataframe thead th {\n",
       "        text-align: right;\n",
       "    }\n",
       "</style>\n",
       "<table border=\"1\" class=\"dataframe\">\n",
       "  <thead>\n",
       "    <tr style=\"text-align: right;\">\n",
       "      <th></th>\n",
       "      <th>belongs_to</th>\n",
       "      <th>name</th>\n",
       "      <th>meaning</th>\n",
       "      <th>mantra</th>\n",
       "      <th>sanskrit</th>\n",
       "    </tr>\n",
       "  </thead>\n",
       "  <tbody>\n",
       "    <tr>\n",
       "      <th>125</th>\n",
       "      <td>Narayan</td>\n",
       "      <td>Dattatreya</td>\n",
       "      <td>Grand Teacher (Guru) in the Universe</td>\n",
       "      <td>Om Dattatreyaya Namah</td>\n",
       "      <td>ॐ दत्तात्रेयाय नमः।</td>\n",
       "    </tr>\n",
       "    <tr>\n",
       "      <th>126</th>\n",
       "      <td>Narayan</td>\n",
       "      <td>Shankarpriya</td>\n",
       "      <td>Beloved Of Shankara (Shiva)</td>\n",
       "      <td>Om Shankarapriyaya Namah</td>\n",
       "      <td>ॐ शङ्करप्रियाय नमः।</td>\n",
       "    </tr>\n",
       "    <tr>\n",
       "      <th>127</th>\n",
       "      <td>Narayan</td>\n",
       "      <td>Vedataman</td>\n",
       "      <td>Spirit Of the Vedas</td>\n",
       "      <td>Om Vedatmane Namah।</td>\n",
       "      <td>ॐ वेदात्मने नमः।</td>\n",
       "    </tr>\n",
       "    <tr>\n",
       "      <th>128</th>\n",
       "      <td>Narayan</td>\n",
       "      <td>Vishnu</td>\n",
       "      <td>All Prevailing Lord</td>\n",
       "      <td>Om Vishnave Namah</td>\n",
       "      <td>ॐ विष्णवे नमः।</td>\n",
       "    </tr>\n",
       "    <tr>\n",
       "      <th>129</th>\n",
       "      <td>Narayan</td>\n",
       "      <td>Laxmipati</td>\n",
       "      <td>Consort Of Goddess Laxmi</td>\n",
       "      <td>Om Lakshmipataye Namah।</td>\n",
       "      <td>ॐ लक्ष्मीपतये नमः।</td>\n",
       "    </tr>\n",
       "    <tr>\n",
       "      <th>130</th>\n",
       "      <td>Narayan</td>\n",
       "      <td>Krishna</td>\n",
       "      <td>Dark Complexioned Lord</td>\n",
       "      <td>Om Krishnay Namah</td>\n",
       "      <td>ॐ कृष्णाय नमः।</td>\n",
       "    </tr>\n",
       "    <tr>\n",
       "      <th>131</th>\n",
       "      <td>Narayan</td>\n",
       "      <td>Daityantak</td>\n",
       "      <td>Destroyer Of Evils</td>\n",
       "      <td>Om Daityantakaya Namah।</td>\n",
       "      <td>ॐ दैत्यान्तकाय नमः।</td>\n",
       "    </tr>\n",
       "    <tr>\n",
       "      <th>132</th>\n",
       "      <td>Narayan</td>\n",
       "      <td>Narayan</td>\n",
       "      <td>Refugee Of Everyone</td>\n",
       "      <td>Om Narayanaya Namah।</td>\n",
       "      <td>ॐ नारायणाय नमः।</td>\n",
       "    </tr>\n",
       "    <tr>\n",
       "      <th>133</th>\n",
       "      <td>Narayan</td>\n",
       "      <td>Parabrahma</td>\n",
       "      <td>The supreme Absolute Truth</td>\n",
       "      <td>Om Parabrahmane Namah।</td>\n",
       "      <td>ॐ परब्रह्मणे नमः।</td>\n",
       "    </tr>\n",
       "    <tr>\n",
       "      <th>134</th>\n",
       "      <td>Narayan</td>\n",
       "      <td>Ram</td>\n",
       "      <td>Seventh Incarnation Of Lord Vishnu</td>\n",
       "      <td>Om Ramaya Namah</td>\n",
       "      <td>ॐ रामाय नमः।</td>\n",
       "    </tr>\n",
       "    <tr>\n",
       "      <th>135</th>\n",
       "      <td>Narayan</td>\n",
       "      <td>Kalki</td>\n",
       "      <td>Another Incarnation Vishnu, Will Appear at the...</td>\n",
       "      <td>Om Kalkine Namah</td>\n",
       "      <td>ॐ कल्किने नमः।</td>\n",
       "    </tr>\n",
       "    <tr>\n",
       "      <th>136</th>\n",
       "      <td>Narayan</td>\n",
       "      <td>Shrikara</td>\n",
       "      <td>One Who Gives Sri</td>\n",
       "      <td>Om Shrikaraya Namah</td>\n",
       "      <td>ॐ श्रीकराय नमः।</td>\n",
       "    </tr>\n",
       "    <tr>\n",
       "      <th>137</th>\n",
       "      <td>Narayan</td>\n",
       "      <td>Kapila</td>\n",
       "      <td>The Great Sage Kapila</td>\n",
       "      <td>Om Kapilaya Namah</td>\n",
       "      <td>ॐ कपिलाय नमः।</td>\n",
       "    </tr>\n",
       "    <tr>\n",
       "      <th>138</th>\n",
       "      <td>Narayan</td>\n",
       "      <td>Dhruva</td>\n",
       "      <td>The Changeless in the Midst of Changes</td>\n",
       "      <td>Om Dhruvaya Namah</td>\n",
       "      <td>ॐ ध्रुवाय नमः।</td>\n",
       "    </tr>\n",
       "    <tr>\n",
       "      <th>139</th>\n",
       "      <td>Narayan</td>\n",
       "      <td>Achyuta</td>\n",
       "      <td>Infallible Lord</td>\n",
       "      <td>Om Achyutaya Namah।</td>\n",
       "      <td>ॐ अच्युताय नमः।</td>\n",
       "    </tr>\n",
       "    <tr>\n",
       "      <th>140</th>\n",
       "      <td>Narayan</td>\n",
       "      <td>Ananta</td>\n",
       "      <td>The Endless Lord</td>\n",
       "      <td>Om Anantaya Namah।</td>\n",
       "      <td>ॐ अनन्ताय नमः।</td>\n",
       "    </tr>\n",
       "    <tr>\n",
       "      <th>141</th>\n",
       "      <td>Narayan</td>\n",
       "      <td>Mukunda</td>\n",
       "      <td>The Giver of Liberation</td>\n",
       "      <td>Om Mukundaya Namah।</td>\n",
       "      <td>ॐ मुकुन्दाय नमः।</td>\n",
       "    </tr>\n",
       "    <tr>\n",
       "      <th>142</th>\n",
       "      <td>Narayan</td>\n",
       "      <td>Shrinivasa</td>\n",
       "      <td>The Permanent Abode of Shree</td>\n",
       "      <td>Om Shrinivasaya Namah।</td>\n",
       "      <td>ॐ श्रीनिवासाय नमः।</td>\n",
       "    </tr>\n",
       "    <tr>\n",
       "      <th>143</th>\n",
       "      <td>Narayan</td>\n",
       "      <td>Pradyumna</td>\n",
       "      <td>Very Rich</td>\n",
       "      <td>Om Pradyumnaya Namah।</td>\n",
       "      <td>ॐ प्रद्युम्नाय नमः।</td>\n",
       "    </tr>\n",
       "    <tr>\n",
       "      <th>144</th>\n",
       "      <td>Narayan</td>\n",
       "      <td>Purushottama</td>\n",
       "      <td>The Supreme Soul</td>\n",
       "      <td>Om Purushottamaya Namah।</td>\n",
       "      <td>ॐ पुरुषोत्तमाय नमः।</td>\n",
       "    </tr>\n",
       "    <tr>\n",
       "      <th>145</th>\n",
       "      <td>Narayan</td>\n",
       "      <td>Adhokshaja</td>\n",
       "      <td>One Whose Vitality Never Flows Downwards</td>\n",
       "      <td>Om Adhokshajaya Namah।</td>\n",
       "      <td>ॐ अधोक्षजाय नमः।</td>\n",
       "    </tr>\n",
       "    <tr>\n",
       "      <th>146</th>\n",
       "      <td>Narayan</td>\n",
       "      <td>Gajendravarada</td>\n",
       "      <td>Lord Vishnu Gave a Benediction to Gajendra (El...</td>\n",
       "      <td>Om Gajendravaradaya Namah।</td>\n",
       "      <td>ॐ गजेन्द्रवरदाय नमः।</td>\n",
       "    </tr>\n",
       "    <tr>\n",
       "      <th>147</th>\n",
       "      <td>Narayan</td>\n",
       "      <td>Aniruddha</td>\n",
       "      <td>One Who Cannot Be Obstructed</td>\n",
       "      <td>Om Aniruddhaya Namah।</td>\n",
       "      <td>ॐ अनिरुद्धाय नमः।</td>\n",
       "    </tr>\n",
       "    <tr>\n",
       "      <th>148</th>\n",
       "      <td>Narayan</td>\n",
       "      <td>Bhaktavatsala</td>\n",
       "      <td>One Who Loves His Devotees</td>\n",
       "      <td>Om Bhaktavatsalaya Namah।</td>\n",
       "      <td>ॐ भक्तवत्सलाय नमः।</td>\n",
       "    </tr>\n",
       "    <tr>\n",
       "      <th>149</th>\n",
       "      <td>Narayan</td>\n",
       "      <td>Nara</td>\n",
       "      <td>The Guide</td>\n",
       "      <td>Om Naraya Namah।</td>\n",
       "      <td>ॐ नराय नमः।</td>\n",
       "    </tr>\n",
       "  </tbody>\n",
       "</table>\n",
       "</div>"
      ],
      "text/plain": [
       "    belongs_to            name  \\\n",
       "125    Narayan      Dattatreya   \n",
       "126    Narayan    Shankarpriya   \n",
       "127    Narayan       Vedataman   \n",
       "128    Narayan          Vishnu   \n",
       "129    Narayan       Laxmipati   \n",
       "130    Narayan         Krishna   \n",
       "131    Narayan      Daityantak   \n",
       "132    Narayan         Narayan   \n",
       "133    Narayan      Parabrahma   \n",
       "134    Narayan             Ram   \n",
       "135    Narayan           Kalki   \n",
       "136    Narayan        Shrikara   \n",
       "137    Narayan          Kapila   \n",
       "138    Narayan          Dhruva   \n",
       "139    Narayan         Achyuta   \n",
       "140    Narayan          Ananta   \n",
       "141    Narayan         Mukunda   \n",
       "142    Narayan      Shrinivasa   \n",
       "143    Narayan       Pradyumna   \n",
       "144    Narayan    Purushottama   \n",
       "145    Narayan      Adhokshaja   \n",
       "146    Narayan  Gajendravarada   \n",
       "147    Narayan       Aniruddha   \n",
       "148    Narayan   Bhaktavatsala   \n",
       "149    Narayan            Nara   \n",
       "\n",
       "                                               meaning  \\\n",
       "125               Grand Teacher (Guru) in the Universe   \n",
       "126                        Beloved Of Shankara (Shiva)   \n",
       "127                                Spirit Of the Vedas   \n",
       "128                                All Prevailing Lord   \n",
       "129                           Consort Of Goddess Laxmi   \n",
       "130                             Dark Complexioned Lord   \n",
       "131                                 Destroyer Of Evils   \n",
       "132                                Refugee Of Everyone   \n",
       "133                         The supreme Absolute Truth   \n",
       "134                 Seventh Incarnation Of Lord Vishnu   \n",
       "135  Another Incarnation Vishnu, Will Appear at the...   \n",
       "136                                  One Who Gives Sri   \n",
       "137                              The Great Sage Kapila   \n",
       "138             The Changeless in the Midst of Changes   \n",
       "139                                    Infallible Lord   \n",
       "140                                   The Endless Lord   \n",
       "141                            The Giver of Liberation   \n",
       "142                       The Permanent Abode of Shree   \n",
       "143                                          Very Rich   \n",
       "144                                   The Supreme Soul   \n",
       "145           One Whose Vitality Never Flows Downwards   \n",
       "146  Lord Vishnu Gave a Benediction to Gajendra (El...   \n",
       "147                       One Who Cannot Be Obstructed   \n",
       "148                         One Who Loves His Devotees   \n",
       "149                                          The Guide   \n",
       "\n",
       "                         mantra              sanskrit  \n",
       "125       Om Dattatreyaya Namah   ॐ दत्तात्रेयाय नमः।  \n",
       "126    Om Shankarapriyaya Namah   ॐ शङ्करप्रियाय नमः।  \n",
       "127         Om Vedatmane Namah।      ॐ वेदात्मने नमः।  \n",
       "128           Om Vishnave Namah        ॐ विष्णवे नमः।  \n",
       "129     Om Lakshmipataye Namah।    ॐ लक्ष्मीपतये नमः।  \n",
       "130           Om Krishnay Namah        ॐ कृष्णाय नमः।  \n",
       "131     Om Daityantakaya Namah।   ॐ दैत्यान्तकाय नमः।  \n",
       "132        Om Narayanaya Namah।       ॐ नारायणाय नमः।  \n",
       "133      Om Parabrahmane Namah।     ॐ परब्रह्मणे नमः।  \n",
       "134             Om Ramaya Namah          ॐ रामाय नमः।  \n",
       "135            Om Kalkine Namah        ॐ कल्किने नमः।  \n",
       "136         Om Shrikaraya Namah       ॐ श्रीकराय नमः।  \n",
       "137           Om Kapilaya Namah         ॐ कपिलाय नमः।  \n",
       "138           Om Dhruvaya Namah        ॐ ध्रुवाय नमः।  \n",
       "139         Om Achyutaya Namah।       ॐ अच्युताय नमः।  \n",
       "140          Om Anantaya Namah।        ॐ अनन्ताय नमः।  \n",
       "141         Om Mukundaya Namah।      ॐ मुकुन्दाय नमः।  \n",
       "142      Om Shrinivasaya Namah।    ॐ श्रीनिवासाय नमः।  \n",
       "143       Om Pradyumnaya Namah।   ॐ प्रद्युम्नाय नमः।  \n",
       "144    Om Purushottamaya Namah।   ॐ पुरुषोत्तमाय नमः।  \n",
       "145      Om Adhokshajaya Namah।      ॐ अधोक्षजाय नमः।  \n",
       "146  Om Gajendravaradaya Namah।  ॐ गजेन्द्रवरदाय नमः।  \n",
       "147       Om Aniruddhaya Namah।     ॐ अनिरुद्धाय नमः।  \n",
       "148   Om Bhaktavatsalaya Namah।    ॐ भक्तवत्सलाय नमः।  \n",
       "149            Om Naraya Namah।           ॐ नराय नमः।  "
      ]
     },
     "execution_count": 37,
     "metadata": {},
     "output_type": "execute_result"
    }
   ],
   "source": [
    "# While this function is much easier\n",
    "\n",
    "narayan_df = raw_df[raw_df.belongs_to == 'Narayan']\n",
    "narayan_df"
   ]
  },
  {
   "cell_type": "code",
   "execution_count": 38,
   "metadata": {},
   "outputs": [
    {
     "data": {
      "application/javascript": [
       "window.require && require([\"base/js/namespace\"],function(Jupyter){Jupyter.notebook.save_checkpoint()})"
      ],
      "text/plain": [
       "<IPython.core.display.Javascript object>"
      ]
     },
     "metadata": {},
     "output_type": "display_data"
    },
    {
     "name": "stdout",
     "output_type": "stream",
     "text": [
      "[jovian] Attempting to save notebook..\u001b[0m\n",
      "[jovian] Updating notebook \"avadhoot-kesarkar/ak-names\" on https://jovian.ml/\u001b[0m\n",
      "[jovian] Uploading notebook..\u001b[0m\n",
      "[jovian] Capturing environment..\u001b[0m\n",
      "[jovian] Committed successfully! https://jovian.ml/avadhoot-kesarkar/ak-names\u001b[0m\n"
     ]
    },
    {
     "data": {
      "text/plain": [
       "'https://jovian.ml/avadhoot-kesarkar/ak-names'"
      ]
     },
     "execution_count": 38,
     "metadata": {},
     "output_type": "execute_result"
    }
   ],
   "source": [
    "jovian.commit()"
   ]
  },
  {
   "cell_type": "markdown",
   "metadata": {},
   "source": [
    "### Q2: Plot chart w.r.to '_belongs_to_' column"
   ]
  },
  {
   "cell_type": "code",
   "execution_count": 39,
   "metadata": {},
   "outputs": [
    {
     "data": {
      "text/plain": [
       "Text(0, 0.5, 'Names')"
      ]
     },
     "execution_count": 39,
     "metadata": {},
     "output_type": "execute_result"
    },
    {
     "data": {
      "image/png": "[encoded data removed]",
      "text/plain": [
       "<Figure size 648x360 with 1 Axes>"
      ]
     },
     "metadata": {
      "needs_background": "light"
     },
     "output_type": "display_data"
    }
   ],
   "source": [
    "# Plotting line chart with X-axis & Y-axis labels\n",
    "\n",
    "plt.plot(raw_df.belongs_to)\n",
    "plt.xlabel('No. of names')\n",
    "plt.ylabel('Names')"
   ]
  },
  {
   "cell_type": "code",
   "execution_count": 40,
   "metadata": {},
   "outputs": [
    {
     "data": {
      "application/javascript": [
       "window.require && require([\"base/js/namespace\"],function(Jupyter){Jupyter.notebook.save_checkpoint()})"
      ],
      "text/plain": [
       "<IPython.core.display.Javascript object>"
      ]
     },
     "metadata": {},
     "output_type": "display_data"
    },
    {
     "name": "stdout",
     "output_type": "stream",
     "text": [
      "[jovian] Attempting to save notebook..\u001b[0m\n",
      "[jovian] Updating notebook \"avadhoot-kesarkar/ak-names\" on https://jovian.ml/\u001b[0m\n",
      "[jovian] Uploading notebook..\u001b[0m\n",
      "[jovian] Capturing environment..\u001b[0m\n",
      "[jovian] Committed successfully! https://jovian.ml/avadhoot-kesarkar/ak-names\u001b[0m\n"
     ]
    },
    {
     "data": {
      "text/plain": [
       "'https://jovian.ml/avadhoot-kesarkar/ak-names'"
      ]
     },
     "execution_count": 40,
     "metadata": {},
     "output_type": "execute_result"
    }
   ],
   "source": [
    "jovian.commit()"
   ]
  },
  {
   "cell_type": "markdown",
   "metadata": {},
   "source": [
    "### Q3: TODO - replace values in belongs_to column with Shiva=1 , Devi = 2, Narayan= 3"
   ]
  },
  {
   "cell_type": "markdown",
   "metadata": {},
   "source": [
    "Data type of _**belongs_to**_ column is _object_ which is used for strings/categories in pandas."
   ]
  },
  {
   "cell_type": "code",
   "execution_count": 41,
   "metadata": {},
   "outputs": [],
   "source": [
    "# Make copy of df\n",
    "\n",
    "copy_df = raw_df.copy()"
   ]
  },
  {
   "cell_type": "code",
   "execution_count": 42,
   "metadata": {},
   "outputs": [
    {
     "name": "stdout",
     "output_type": "stream",
     "text": [
      "<class 'pandas.core.frame.DataFrame'>\n",
      "RangeIndex: 150 entries, 0 to 149\n",
      "Data columns (total 5 columns):\n",
      " #   Column      Non-Null Count  Dtype \n",
      "---  ------      --------------  ----- \n",
      " 0   belongs_to  150 non-null    object\n",
      " 1   name        150 non-null    object\n",
      " 2   meaning     150 non-null    object\n",
      " 3   mantra      150 non-null    object\n",
      " 4   sanskrit    150 non-null    object\n",
      "dtypes: object(5)\n",
      "memory usage: 6.0+ KB\n"
     ]
    }
   ],
   "source": [
    "copy_df.info()"
   ]
  },
  {
   "cell_type": "code",
   "execution_count": 43,
   "metadata": {},
   "outputs": [],
   "source": [
    "#replacing the categories with the above numbers with replace() function\n",
    "#Dictionary which contains mapping numbers for each category in the belongs_to column: \n",
    "\n",
    "replace_matrix = {'belongs_to': {'Shiva': 1, 'Devi': 2, 'Narayan': 3}}"
   ]
  },
  {
   "cell_type": "code",
   "execution_count": 44,
   "metadata": {},
   "outputs": [
    {
     "data": {
      "text/html": [
       "<div>\n",
       "<style scoped>\n",
       "    .dataframe tbody tr th:only-of-type {\n",
       "        vertical-align: middle;\n",
       "    }\n",
       "\n",
       "    .dataframe tbody tr th {\n",
       "        vertical-align: top;\n",
       "    }\n",
       "\n",
       "    .dataframe thead th {\n",
       "        text-align: right;\n",
       "    }\n",
       "</style>\n",
       "<table border=\"1\" class=\"dataframe\">\n",
       "  <thead>\n",
       "    <tr style=\"text-align: right;\">\n",
       "      <th></th>\n",
       "      <th>belongs_to</th>\n",
       "      <th>name</th>\n",
       "      <th>meaning</th>\n",
       "      <th>mantra</th>\n",
       "      <th>sanskrit</th>\n",
       "    </tr>\n",
       "  </thead>\n",
       "  <tbody>\n",
       "    <tr>\n",
       "      <th>0</th>\n",
       "      <td>1</td>\n",
       "      <td>Shivay</td>\n",
       "      <td>Always Pure</td>\n",
       "      <td>Om Shivay Namah</td>\n",
       "      <td>ॐ शिवाय नमः।</td>\n",
       "    </tr>\n",
       "    <tr>\n",
       "      <th>1</th>\n",
       "      <td>1</td>\n",
       "      <td>Maheshwar</td>\n",
       "      <td>Lord of gods</td>\n",
       "      <td>Om Maheshwaraya Namah</td>\n",
       "      <td>ॐ महेश्वराय नमः।</td>\n",
       "    </tr>\n",
       "    <tr>\n",
       "      <th>2</th>\n",
       "      <td>1</td>\n",
       "      <td>Shambhu</td>\n",
       "      <td>One Who Bestows Prosperity</td>\n",
       "      <td>Om Shambhave Namah</td>\n",
       "      <td>ॐ शंभवे नमः।</td>\n",
       "    </tr>\n",
       "    <tr>\n",
       "      <th>3</th>\n",
       "      <td>1</td>\n",
       "      <td>Pinakine</td>\n",
       "      <td>One Who Has A Bow In His Hand</td>\n",
       "      <td>Om Pinakine namah</td>\n",
       "      <td>ॐ पिनाकिने नमः।</td>\n",
       "    </tr>\n",
       "    <tr>\n",
       "      <th>4</th>\n",
       "      <td>1</td>\n",
       "      <td>Shashi Shekhara</td>\n",
       "      <td>The God Who Wears The Crescent Moon In His Hair</td>\n",
       "      <td>Om Shashishekharay Namah</td>\n",
       "      <td>ॐ शशिशेखराय नमः।</td>\n",
       "    </tr>\n",
       "  </tbody>\n",
       "</table>\n",
       "</div>"
      ],
      "text/plain": [
       "   belongs_to             name  \\\n",
       "0           1           Shivay   \n",
       "1           1        Maheshwar   \n",
       "2           1          Shambhu   \n",
       "3           1         Pinakine   \n",
       "4           1  Shashi Shekhara   \n",
       "\n",
       "                                           meaning                    mantra  \\\n",
       "0                                      Always Pure           Om Shivay Namah   \n",
       "1                                     Lord of gods     Om Maheshwaraya Namah   \n",
       "2                       One Who Bestows Prosperity        Om Shambhave Namah   \n",
       "3                    One Who Has A Bow In His Hand         Om Pinakine namah   \n",
       "4  The God Who Wears The Crescent Moon In His Hair  Om Shashishekharay Namah   \n",
       "\n",
       "           sanskrit  \n",
       "0      ॐ शिवाय नमः।  \n",
       "1  ॐ महेश्वराय नमः।  \n",
       "2      ॐ शंभवे नमः।  \n",
       "3   ॐ पिनाकिने नमः।  \n",
       "4  ॐ शशिशेखराय नमः।  "
      ]
     },
     "execution_count": 44,
     "metadata": {},
     "output_type": "execute_result"
    }
   ],
   "source": [
    "# Replacing\n",
    "\n",
    "copy_df.replace(replace_matrix, inplace=True)\n",
    "copy_df.head()"
   ]
  },
  {
   "cell_type": "code",
   "execution_count": 47,
   "metadata": {},
   "outputs": [
    {
     "name": "stdout",
     "output_type": "stream",
     "text": [
      "<class 'pandas.core.frame.DataFrame'>\n",
      "RangeIndex: 150 entries, 0 to 149\n",
      "Data columns (total 5 columns):\n",
      " #   Column      Non-Null Count  Dtype \n",
      "---  ------      --------------  ----- \n",
      " 0   belongs_to  150 non-null    int64 \n",
      " 1   name        150 non-null    object\n",
      " 2   meaning     150 non-null    object\n",
      " 3   mantra      150 non-null    object\n",
      " 4   sanskrit    150 non-null    object\n",
      "dtypes: int64(1), object(4)\n",
      "memory usage: 6.0+ KB\n"
     ]
    }
   ],
   "source": [
    "# As we replaced values \"belongs_to\" datatype changed into int64\n",
    "\n",
    "copy_df.info()"
   ]
  },
  {
   "cell_type": "code",
   "execution_count": 50,
   "metadata": {},
   "outputs": [
    {
     "data": {
      "text/html": [
       "<div>\n",
       "<style scoped>\n",
       "    .dataframe tbody tr th:only-of-type {\n",
       "        vertical-align: middle;\n",
       "    }\n",
       "\n",
       "    .dataframe tbody tr th {\n",
       "        vertical-align: top;\n",
       "    }\n",
       "\n",
       "    .dataframe thead th {\n",
       "        text-align: right;\n",
       "    }\n",
       "</style>\n",
       "<table border=\"1\" class=\"dataframe\">\n",
       "  <thead>\n",
       "    <tr style=\"text-align: right;\">\n",
       "      <th></th>\n",
       "      <th>belongs_to</th>\n",
       "      <th>name</th>\n",
       "      <th>meaning</th>\n",
       "      <th>mantra</th>\n",
       "      <th>sanskrit</th>\n",
       "    </tr>\n",
       "  </thead>\n",
       "  <tbody>\n",
       "    <tr>\n",
       "      <th>20</th>\n",
       "      <td>1</td>\n",
       "      <td>Shitikantha</td>\n",
       "      <td>The Lord Who has White Neck</td>\n",
       "      <td>Om Shitikanthaya Namah</td>\n",
       "      <td>ॐ शितिकण्ठाय नमः।</td>\n",
       "    </tr>\n",
       "    <tr>\n",
       "      <th>89</th>\n",
       "      <td>1</td>\n",
       "      <td>Pashvimochana</td>\n",
       "      <td>Lord Who Releases All Fetters</td>\n",
       "      <td>Om Pashavimochakaya Namah।</td>\n",
       "      <td>ॐ पाशविमोचकाय नमः।</td>\n",
       "    </tr>\n",
       "    <tr>\n",
       "      <th>138</th>\n",
       "      <td>3</td>\n",
       "      <td>Dhruva</td>\n",
       "      <td>The Changeless in the Midst of Changes</td>\n",
       "      <td>Om Dhruvaya Namah</td>\n",
       "      <td>ॐ ध्रुवाय नमः।</td>\n",
       "    </tr>\n",
       "    <tr>\n",
       "      <th>94</th>\n",
       "      <td>1</td>\n",
       "      <td>Avayaya</td>\n",
       "      <td>The One Who Never Subject To Change</td>\n",
       "      <td>Om Avyayaya Namah।</td>\n",
       "      <td>ॐ अव्ययाय नमः।</td>\n",
       "    </tr>\n",
       "    <tr>\n",
       "      <th>100</th>\n",
       "      <td>1</td>\n",
       "      <td>Pushadantabhit</td>\n",
       "      <td>One Who Punished Pushan</td>\n",
       "      <td>Om Pushadantabhide Namah।</td>\n",
       "      <td>ॐ पूषदन्तभिदे नमः।</td>\n",
       "    </tr>\n",
       "    <tr>\n",
       "      <th>90</th>\n",
       "      <td>1</td>\n",
       "      <td>Mrida</td>\n",
       "      <td>The Lord Who Shows Only Mercy</td>\n",
       "      <td>Om Mridaya Namah।</td>\n",
       "      <td>ॐ मृडाय नमः।</td>\n",
       "    </tr>\n",
       "    <tr>\n",
       "      <th>145</th>\n",
       "      <td>3</td>\n",
       "      <td>Adhokshaja</td>\n",
       "      <td>One Whose Vitality Never Flows Downwards</td>\n",
       "      <td>Om Adhokshajaya Namah।</td>\n",
       "      <td>ॐ अधोक्षजाय नमः।</td>\n",
       "    </tr>\n",
       "    <tr>\n",
       "      <th>3</th>\n",
       "      <td>1</td>\n",
       "      <td>Pinakine</td>\n",
       "      <td>One Who Has A Bow In His Hand</td>\n",
       "      <td>Om Pinakine namah</td>\n",
       "      <td>ॐ पिनाकिने नमः।</td>\n",
       "    </tr>\n",
       "    <tr>\n",
       "      <th>133</th>\n",
       "      <td>3</td>\n",
       "      <td>Parabrahma</td>\n",
       "      <td>The supreme Absolute Truth</td>\n",
       "      <td>Om Parabrahmane Namah।</td>\n",
       "      <td>ॐ परब्रह्मणे नमः।</td>\n",
       "    </tr>\n",
       "    <tr>\n",
       "      <th>74</th>\n",
       "      <td>1</td>\n",
       "      <td>Vyomakesha</td>\n",
       "      <td>Whose Hair Spreads In The Sky</td>\n",
       "      <td>Om Vyomakeshaya Namah।</td>\n",
       "      <td>ॐ व्योमकेशाय नमः।</td>\n",
       "    </tr>\n",
       "    <tr>\n",
       "      <th>108</th>\n",
       "      <td>2</td>\n",
       "      <td>Ananta</td>\n",
       "      <td>The Infinite</td>\n",
       "      <td>Om Anantayai Namah</td>\n",
       "      <td>ॐ अनन्तायै नमः।</td>\n",
       "    </tr>\n",
       "    <tr>\n",
       "      <th>93</th>\n",
       "      <td>1</td>\n",
       "      <td>Mahadeva</td>\n",
       "      <td>Greatest Of The Gods</td>\n",
       "      <td>Om Mahadevaya Namah।</td>\n",
       "      <td>ॐ महादेवाय नमः।</td>\n",
       "    </tr>\n",
       "    <tr>\n",
       "      <th>84</th>\n",
       "      <td>1</td>\n",
       "      <td>Satvika</td>\n",
       "      <td>Lord Of Boundless Energy</td>\n",
       "      <td>Om Satvikaya Namah।</td>\n",
       "      <td>ॐ सात्विकाय नमः।</td>\n",
       "    </tr>\n",
       "    <tr>\n",
       "      <th>126</th>\n",
       "      <td>3</td>\n",
       "      <td>Shankarpriya</td>\n",
       "      <td>Beloved Of Shankara (Shiva)</td>\n",
       "      <td>Om Shankarapriyaya Namah</td>\n",
       "      <td>ॐ शङ्करप्रियाय नमः।</td>\n",
       "    </tr>\n",
       "    <tr>\n",
       "      <th>78</th>\n",
       "      <td>1</td>\n",
       "      <td>Bhootapati</td>\n",
       "      <td>Lord Of Panchabhoota Or Bhootapreta</td>\n",
       "      <td>Om Bhutapataye Namah।</td>\n",
       "      <td>ॐ भूतपतये नमः।</td>\n",
       "    </tr>\n",
       "    <tr>\n",
       "      <th>26</th>\n",
       "      <td>1</td>\n",
       "      <td>Gangadhar</td>\n",
       "      <td>The God Who holds Ganges River In His Hairs</td>\n",
       "      <td>Om Gangadharaya Namah</td>\n",
       "      <td>ॐ गंगाधराय नमः।</td>\n",
       "    </tr>\n",
       "    <tr>\n",
       "      <th>101</th>\n",
       "      <td>1</td>\n",
       "      <td>Avyagra</td>\n",
       "      <td>Lord Who Is Steady And Unwavering</td>\n",
       "      <td>Om Avyagraya Namah।</td>\n",
       "      <td>ॐ अव्यग्राय नमः।</td>\n",
       "    </tr>\n",
       "    <tr>\n",
       "      <th>53</th>\n",
       "      <td>1</td>\n",
       "      <td>Vishveshwara</td>\n",
       "      <td>Lord Of The Universe</td>\n",
       "      <td>Om Vishveshwaraya Namah</td>\n",
       "      <td>ॐ विश्वेश्वराय नमः।</td>\n",
       "    </tr>\n",
       "    <tr>\n",
       "      <th>136</th>\n",
       "      <td>3</td>\n",
       "      <td>Shrikara</td>\n",
       "      <td>One Who Gives Sri</td>\n",
       "      <td>Om Shrikaraya Namah</td>\n",
       "      <td>ॐ श्रीकराय नमः।</td>\n",
       "    </tr>\n",
       "    <tr>\n",
       "      <th>139</th>\n",
       "      <td>3</td>\n",
       "      <td>Achyuta</td>\n",
       "      <td>Infallible Lord</td>\n",
       "      <td>Om Achyutaya Namah।</td>\n",
       "      <td>ॐ अच्युताय नमः।</td>\n",
       "    </tr>\n",
       "  </tbody>\n",
       "</table>\n",
       "</div>"
      ],
      "text/plain": [
       "     belongs_to            name                                      meaning  \\\n",
       "20            1     Shitikantha                  The Lord Who has White Neck   \n",
       "89            1   Pashvimochana                Lord Who Releases All Fetters   \n",
       "138           3          Dhruva       The Changeless in the Midst of Changes   \n",
       "94            1         Avayaya          The One Who Never Subject To Change   \n",
       "100           1  Pushadantabhit                      One Who Punished Pushan   \n",
       "90            1           Mrida                The Lord Who Shows Only Mercy   \n",
       "145           3      Adhokshaja     One Whose Vitality Never Flows Downwards   \n",
       "3             1        Pinakine                One Who Has A Bow In His Hand   \n",
       "133           3      Parabrahma                   The supreme Absolute Truth   \n",
       "74            1      Vyomakesha                Whose Hair Spreads In The Sky   \n",
       "108           2          Ananta                                 The Infinite   \n",
       "93            1        Mahadeva                         Greatest Of The Gods   \n",
       "84            1         Satvika                     Lord Of Boundless Energy   \n",
       "126           3    Shankarpriya                  Beloved Of Shankara (Shiva)   \n",
       "78            1      Bhootapati          Lord Of Panchabhoota Or Bhootapreta   \n",
       "26            1       Gangadhar  The God Who holds Ganges River In His Hairs   \n",
       "101           1         Avyagra            Lord Who Is Steady And Unwavering   \n",
       "53            1    Vishveshwara                         Lord Of The Universe   \n",
       "136           3        Shrikara                            One Who Gives Sri   \n",
       "139           3         Achyuta                              Infallible Lord   \n",
       "\n",
       "                         mantra             sanskrit  \n",
       "20       Om Shitikanthaya Namah    ॐ शितिकण्ठाय नमः।  \n",
       "89   Om Pashavimochakaya Namah।   ॐ पाशविमोचकाय नमः।  \n",
       "138           Om Dhruvaya Namah       ॐ ध्रुवाय नमः।  \n",
       "94           Om Avyayaya Namah।       ॐ अव्ययाय नमः।  \n",
       "100   Om Pushadantabhide Namah।   ॐ पूषदन्तभिदे नमः।  \n",
       "90            Om Mridaya Namah।         ॐ मृडाय नमः।  \n",
       "145      Om Adhokshajaya Namah।     ॐ अधोक्षजाय नमः।  \n",
       "3             Om Pinakine namah      ॐ पिनाकिने नमः।  \n",
       "133      Om Parabrahmane Namah।    ॐ परब्रह्मणे नमः।  \n",
       "74       Om Vyomakeshaya Namah।    ॐ व्योमकेशाय नमः।  \n",
       "108          Om Anantayai Namah      ॐ अनन्तायै नमः।  \n",
       "93         Om Mahadevaya Namah।      ॐ महादेवाय नमः।  \n",
       "84          Om Satvikaya Namah।     ॐ सात्विकाय नमः।  \n",
       "126    Om Shankarapriyaya Namah  ॐ शङ्करप्रियाय नमः।  \n",
       "78        Om Bhutapataye Namah।       ॐ भूतपतये नमः।  \n",
       "26        Om Gangadharaya Namah      ॐ गंगाधराय नमः।  \n",
       "101         Om Avyagraya Namah।     ॐ अव्यग्राय नमः।  \n",
       "53      Om Vishveshwaraya Namah  ॐ विश्वेश्वराय नमः।  \n",
       "136         Om Shrikaraya Namah      ॐ श्रीकराय नमः।  \n",
       "139         Om Achyutaya Namah।      ॐ अच्युताय नमः।  "
      ]
     },
     "execution_count": 50,
     "metadata": {},
     "output_type": "execute_result"
    }
   ],
   "source": [
    "copy_df.sample(20)"
   ]
  },
  {
   "cell_type": "code",
   "execution_count": 51,
   "metadata": {},
   "outputs": [
    {
     "data": {
      "application/javascript": [
       "window.require && require([\"base/js/namespace\"],function(Jupyter){Jupyter.notebook.save_checkpoint()})"
      ],
      "text/plain": [
       "<IPython.core.display.Javascript object>"
      ]
     },
     "metadata": {},
     "output_type": "display_data"
    },
    {
     "name": "stdout",
     "output_type": "stream",
     "text": [
      "[jovian] Attempting to save notebook..\u001b[0m\n",
      "[jovian] Updating notebook \"avadhoot-kesarkar/ak-names\" on https://jovian.ml/\u001b[0m\n",
      "[jovian] Uploading notebook..\u001b[0m\n",
      "[jovian] Capturing environment..\u001b[0m\n",
      "[jovian] Committed successfully! https://jovian.ml/avadhoot-kesarkar/ak-names\u001b[0m\n"
     ]
    },
    {
     "data": {
      "text/plain": [
       "'https://jovian.ml/avadhoot-kesarkar/ak-names'"
      ]
     },
     "execution_count": 51,
     "metadata": {},
     "output_type": "execute_result"
    }
   ],
   "source": [
    "jovian.commit()"
   ]
  },
  {
   "cell_type": "markdown",
   "metadata": {},
   "source": [
    "### Q4: Count of distinct categories within belong_to column & make frequency distribution graph"
   ]
  },
  {
   "cell_type": "code",
   "execution_count": 52,
   "metadata": {},
   "outputs": [
    {
     "data": {
      "text/plain": [
       "3"
      ]
     },
     "execution_count": 52,
     "metadata": {},
     "output_type": "execute_result"
    }
   ],
   "source": [
    "# Counting Diff values in belongs_to column\n",
    "\n",
    "raw_df['belongs_to'].value_counts().count()"
   ]
  },
  {
   "cell_type": "code",
   "execution_count": 53,
   "metadata": {},
   "outputs": [
    {
     "data": {
      "image/png": "[encoded data removed]",
      "text/plain": [
       "<Figure size 648x360 with 1 Axes>"
      ]
     },
     "metadata": {
      "needs_background": "light"
     },
     "output_type": "display_data"
    }
   ],
   "source": [
    "'''Barplot of the frequency distribution of a category using the seaborn package, which shows the \n",
    "frequency distribution of the carrier column.\n",
    "'''\n",
    "\n",
    "df = raw_df['belongs_to'].value_counts()\n",
    "\n",
    "# Assigning title, x & Y axis labels\n",
    "sns.barplot(df.index, df.values, alpha=0.9)\n",
    "plt.title('Frequency Distribution of Names')\n",
    "plt.ylabel('Number of Occurrences', fontsize=16)\n",
    "plt.xlabel('Names', fontsize=16)\n",
    "plt.show()"
   ]
  },
  {
   "cell_type": "code",
   "execution_count": 54,
   "metadata": {},
   "outputs": [
    {
     "data": {
      "application/javascript": [
       "window.require && require([\"base/js/namespace\"],function(Jupyter){Jupyter.notebook.save_checkpoint()})"
      ],
      "text/plain": [
       "<IPython.core.display.Javascript object>"
      ]
     },
     "metadata": {},
     "output_type": "display_data"
    },
    {
     "name": "stdout",
     "output_type": "stream",
     "text": [
      "[jovian] Attempting to save notebook..\u001b[0m\n",
      "[jovian] Updating notebook \"avadhoot-kesarkar/ak-names\" on https://jovian.ml/\u001b[0m\n",
      "[jovian] Uploading notebook..\u001b[0m\n",
      "[jovian] Capturing environment..\u001b[0m\n",
      "[jovian] Committed successfully! https://jovian.ml/avadhoot-kesarkar/ak-names\u001b[0m\n"
     ]
    },
    {
     "data": {
      "text/plain": [
       "'https://jovian.ml/avadhoot-kesarkar/ak-names'"
      ]
     },
     "execution_count": 54,
     "metadata": {},
     "output_type": "execute_result"
    }
   ],
   "source": [
    "jovian.commit()"
   ]
  },
  {
   "cell_type": "markdown",
   "metadata": {},
   "source": [
    "### Q5: Show percentage wise distribution of  God's/ goddesses names in total dataframe"
   ]
  },
  {
   "cell_type": "code",
   "execution_count": 58,
   "metadata": {},
   "outputs": [
    {
     "data": {
      "image/png": "[encoded data removed]",
      "text/plain": [
       "<Figure size 648x360 with 1 Axes>"
      ]
     },
     "metadata": {},
     "output_type": "display_data"
    }
   ],
   "source": [
    "# We are plotting pie chart here\n",
    "\n",
    "labels = raw_df['belongs_to'].astype('category').cat.categories.tolist()\n",
    "counts = raw_df['belongs_to'].value_counts()\n",
    "sizes = [counts[var_cat] for var_cat in labels]\n",
    "fig1, ax1 = plt.subplots()\n",
    "\n",
    "#autopct is to show the percentage(%) on pie chart\n",
    "\n",
    "ax1.pie(sizes, labels=labels, autopct='%1.1f%%', shadow=True) \n",
    "\n",
    "plt.title('Percentage-wise Distribution of Names')\n",
    "ax1.axis('equal')\n",
    "plt.show()"
   ]
  },
  {
   "cell_type": "code",
   "execution_count": 59,
   "metadata": {},
   "outputs": [
    {
     "data": {
      "application/javascript": [
       "window.require && require([\"base/js/namespace\"],function(Jupyter){Jupyter.notebook.save_checkpoint()})"
      ],
      "text/plain": [
       "<IPython.core.display.Javascript object>"
      ]
     },
     "metadata": {},
     "output_type": "display_data"
    },
    {
     "name": "stdout",
     "output_type": "stream",
     "text": [
      "[jovian] Attempting to save notebook..\u001b[0m\n",
      "[jovian] Updating notebook \"avadhoot-kesarkar/ak-names\" on https://jovian.ml/\u001b[0m\n",
      "[jovian] Uploading notebook..\u001b[0m\n",
      "[jovian] Capturing environment..\u001b[0m\n",
      "[jovian] Committed successfully! https://jovian.ml/avadhoot-kesarkar/ak-names\u001b[0m\n"
     ]
    },
    {
     "data": {
      "text/plain": [
       "'https://jovian.ml/avadhoot-kesarkar/ak-names'"
      ]
     },
     "execution_count": 59,
     "metadata": {},
     "output_type": "execute_result"
    }
   ],
   "source": [
    "jovian.commit()"
   ]
  },
  {
   "cell_type": "markdown",
   "metadata": {},
   "source": [
    "### Q6:  Find sanskrit  names of devi"
   ]
  },
  {
   "cell_type": "code",
   "execution_count": 61,
   "metadata": {},
   "outputs": [
    {
     "data": {
      "text/html": [
       "<div>\n",
       "<style scoped>\n",
       "    .dataframe tbody tr th:only-of-type {\n",
       "        vertical-align: middle;\n",
       "    }\n",
       "\n",
       "    .dataframe tbody tr th {\n",
       "        vertical-align: top;\n",
       "    }\n",
       "\n",
       "    .dataframe thead th {\n",
       "        text-align: right;\n",
       "    }\n",
       "</style>\n",
       "<table border=\"1\" class=\"dataframe\">\n",
       "  <thead>\n",
       "    <tr style=\"text-align: right;\">\n",
       "      <th></th>\n",
       "      <th>belongs_to</th>\n",
       "      <th>name</th>\n",
       "      <th>meaning</th>\n",
       "      <th>mantra</th>\n",
       "      <th>sanskrit</th>\n",
       "    </tr>\n",
       "  </thead>\n",
       "  <tbody>\n",
       "    <tr>\n",
       "      <th>108</th>\n",
       "      <td>Devi</td>\n",
       "      <td>Ananta</td>\n",
       "      <td>The Infinite</td>\n",
       "      <td>Om Anantayai Namah</td>\n",
       "      <td>ॐ अनन्तायै नमः।</td>\n",
       "    </tr>\n",
       "    <tr>\n",
       "      <th>109</th>\n",
       "      <td>Devi</td>\n",
       "      <td>Anaghaa</td>\n",
       "      <td>She Who Is Pure</td>\n",
       "      <td>Om Anaghayai Namah</td>\n",
       "      <td>ॐ अनघायै नमः।</td>\n",
       "    </tr>\n",
       "    <tr>\n",
       "      <th>110</th>\n",
       "      <td>Devi</td>\n",
       "      <td>Agyangocharaa</td>\n",
       "      <td>Remover Of Agyana</td>\n",
       "      <td>Om Agyangocharayai Namah</td>\n",
       "      <td>ॐ अज्ञानगोचरायै नमः।</td>\n",
       "    </tr>\n",
       "    <tr>\n",
       "      <th>111</th>\n",
       "      <td>Devi</td>\n",
       "      <td>Aadishakti</td>\n",
       "      <td>The Primeval Power</td>\n",
       "      <td>Om Aadishakatayaii Namah</td>\n",
       "      <td>ॐ आदिशक्तयै नमः।</td>\n",
       "    </tr>\n",
       "    <tr>\n",
       "      <th>112</th>\n",
       "      <td>Devi</td>\n",
       "      <td>Kamala</td>\n",
       "      <td>Name of laxmi ; Lotus like</td>\n",
       "      <td>Om Kamalayaii Namah</td>\n",
       "      <td>ॐ कमलायै नमः।</td>\n",
       "    </tr>\n",
       "    <tr>\n",
       "      <th>113</th>\n",
       "      <td>Devi</td>\n",
       "      <td>Daridyaharini</td>\n",
       "      <td>Remover of Poverty</td>\n",
       "      <td>Om Daridryaharinyaii Namah</td>\n",
       "      <td>ॐ दारिद्रयहारण्यै नमः।</td>\n",
       "    </tr>\n",
       "    <tr>\n",
       "      <th>114</th>\n",
       "      <td>Devi</td>\n",
       "      <td>Durga</td>\n",
       "      <td>Invicible One</td>\n",
       "      <td>Om Durgayaii Namah</td>\n",
       "      <td>ॐ दुर्गायै नमः।</td>\n",
       "    </tr>\n",
       "    <tr>\n",
       "      <th>115</th>\n",
       "      <td>Devi</td>\n",
       "      <td>Narayani</td>\n",
       "      <td>Narayana\"s Wife</td>\n",
       "      <td>Om Narayanyaii Namah</td>\n",
       "      <td>ॐ नारायण्यै नमः।</td>\n",
       "    </tr>\n",
       "    <tr>\n",
       "      <th>116</th>\n",
       "      <td>Devi</td>\n",
       "      <td>Padmavasini</td>\n",
       "      <td>She who lives in lotus</td>\n",
       "      <td>Om Padmavasinyaii Namah</td>\n",
       "      <td>ॐ पद्मवासिन्यै नमः।</td>\n",
       "    </tr>\n",
       "    <tr>\n",
       "      <th>117</th>\n",
       "      <td>Devi</td>\n",
       "      <td>Brahmandharini</td>\n",
       "      <td>One who hold Cosmos with her power</td>\n",
       "      <td>Om Brahmandadharinyaii Namah</td>\n",
       "      <td>ॐ ब्रह्माण्डधारिण्यै नमः।</td>\n",
       "    </tr>\n",
       "    <tr>\n",
       "      <th>118</th>\n",
       "      <td>Devi</td>\n",
       "      <td>Mahamaya</td>\n",
       "      <td>Supreme Divine Power Of Illusion</td>\n",
       "      <td>Om Mahamayayaii Namah</td>\n",
       "      <td>ॐ महामायायै नमः।</td>\n",
       "    </tr>\n",
       "    <tr>\n",
       "      <th>119</th>\n",
       "      <td>Devi</td>\n",
       "      <td>Mahalaxmi</td>\n",
       "      <td>Supreme Goddess Of Fortune, Wealth</td>\n",
       "      <td>Om Mahalaxmyaii Namah</td>\n",
       "      <td>ॐ महालक्ष्मै नमः।</td>\n",
       "    </tr>\n",
       "    <tr>\n",
       "      <th>120</th>\n",
       "      <td>Devi</td>\n",
       "      <td>Mahadevi</td>\n",
       "      <td>Great Goddess</td>\n",
       "      <td>Om Mahadevyaii Namah</td>\n",
       "      <td>ॐ महादेव्यै नमः।</td>\n",
       "    </tr>\n",
       "    <tr>\n",
       "      <th>121</th>\n",
       "      <td>Devi</td>\n",
       "      <td>Mahavidya</td>\n",
       "      <td>Supreme Goddess Of Vidya</td>\n",
       "      <td>Om Mahavidyayaii Namah</td>\n",
       "      <td>ॐ महाविद्यायै नमः।</td>\n",
       "    </tr>\n",
       "    <tr>\n",
       "      <th>122</th>\n",
       "      <td>Devi</td>\n",
       "      <td>Mahasarswati</td>\n",
       "      <td>Supreme Goddess Of Knowledge, Bliss</td>\n",
       "      <td>Om Mahasarswatyaii Namah</td>\n",
       "      <td>ॐ महासरस्वत्यै नमः।</td>\n",
       "    </tr>\n",
       "    <tr>\n",
       "      <th>123</th>\n",
       "      <td>Devi</td>\n",
       "      <td>Bhagwati</td>\n",
       "      <td>Goddess Counterpart Of Shiva</td>\n",
       "      <td>Om Bhagwatyaii Namah</td>\n",
       "      <td>ॐ भगवत्यै नमः।</td>\n",
       "    </tr>\n",
       "    <tr>\n",
       "      <th>124</th>\n",
       "      <td>Devi</td>\n",
       "      <td>Vidyalaxmi</td>\n",
       "      <td>Giver Of Knowledge &amp; Wealth</td>\n",
       "      <td>Om Vidyalaxmyaii Namah</td>\n",
       "      <td>ॐ विद्यालक्ष्म्यै नमः।</td>\n",
       "    </tr>\n",
       "  </tbody>\n",
       "</table>\n",
       "</div>"
      ],
      "text/plain": [
       "    belongs_to            name                              meaning  \\\n",
       "108       Devi          Ananta                         The Infinite   \n",
       "109       Devi         Anaghaa                      She Who Is Pure   \n",
       "110       Devi   Agyangocharaa                    Remover Of Agyana   \n",
       "111       Devi      Aadishakti                   The Primeval Power   \n",
       "112       Devi          Kamala           Name of laxmi ; Lotus like   \n",
       "113       Devi   Daridyaharini                   Remover of Poverty   \n",
       "114       Devi           Durga                        Invicible One   \n",
       "115       Devi        Narayani                      Narayana\"s Wife   \n",
       "116       Devi     Padmavasini               She who lives in lotus   \n",
       "117       Devi  Brahmandharini   One who hold Cosmos with her power   \n",
       "118       Devi        Mahamaya     Supreme Divine Power Of Illusion   \n",
       "119       Devi       Mahalaxmi   Supreme Goddess Of Fortune, Wealth   \n",
       "120       Devi        Mahadevi                        Great Goddess   \n",
       "121       Devi       Mahavidya             Supreme Goddess Of Vidya   \n",
       "122       Devi    Mahasarswati  Supreme Goddess Of Knowledge, Bliss   \n",
       "123       Devi        Bhagwati         Goddess Counterpart Of Shiva   \n",
       "124       Devi      Vidyalaxmi          Giver Of Knowledge & Wealth   \n",
       "\n",
       "                           mantra                   sanskrit  \n",
       "108            Om Anantayai Namah            ॐ अनन्तायै नमः।  \n",
       "109            Om Anaghayai Namah              ॐ अनघायै नमः।  \n",
       "110      Om Agyangocharayai Namah       ॐ अज्ञानगोचरायै नमः।  \n",
       "111      Om Aadishakatayaii Namah           ॐ आदिशक्तयै नमः।  \n",
       "112           Om Kamalayaii Namah              ॐ कमलायै नमः।  \n",
       "113    Om Daridryaharinyaii Namah     ॐ दारिद्रयहारण्यै नमः।  \n",
       "114            Om Durgayaii Namah            ॐ दुर्गायै नमः।  \n",
       "115          Om Narayanyaii Namah           ॐ नारायण्यै नमः।  \n",
       "116       Om Padmavasinyaii Namah        ॐ पद्मवासिन्यै नमः।  \n",
       "117  Om Brahmandadharinyaii Namah  ॐ ब्रह्माण्डधारिण्यै नमः।  \n",
       "118         Om Mahamayayaii Namah           ॐ महामायायै नमः।  \n",
       "119         Om Mahalaxmyaii Namah          ॐ महालक्ष्मै नमः।  \n",
       "120          Om Mahadevyaii Namah           ॐ महादेव्यै नमः।  \n",
       "121        Om Mahavidyayaii Namah         ॐ महाविद्यायै नमः।  \n",
       "122      Om Mahasarswatyaii Namah        ॐ महासरस्वत्यै नमः।  \n",
       "123          Om Bhagwatyaii Namah             ॐ भगवत्यै नमः।  \n",
       "124        Om Vidyalaxmyaii Namah     ॐ विद्यालक्ष्म्यै नमः।  "
      ]
     },
     "execution_count": 61,
     "metadata": {},
     "output_type": "execute_result"
    }
   ],
   "source": [
    "# Access previously made df \n",
    "\n",
    "devi_df"
   ]
  },
  {
   "cell_type": "code",
   "execution_count": 67,
   "metadata": {},
   "outputs": [
    {
     "data": {
      "text/html": [
       "<div>\n",
       "<style scoped>\n",
       "    .dataframe tbody tr th:only-of-type {\n",
       "        vertical-align: middle;\n",
       "    }\n",
       "\n",
       "    .dataframe tbody tr th {\n",
       "        vertical-align: top;\n",
       "    }\n",
       "\n",
       "    .dataframe thead th {\n",
       "        text-align: right;\n",
       "    }\n",
       "</style>\n",
       "<table border=\"1\" class=\"dataframe\">\n",
       "  <thead>\n",
       "    <tr style=\"text-align: right;\">\n",
       "      <th></th>\n",
       "      <th>belongs_to</th>\n",
       "      <th>sanskrit</th>\n",
       "    </tr>\n",
       "  </thead>\n",
       "  <tbody>\n",
       "    <tr>\n",
       "      <th>108</th>\n",
       "      <td>Devi</td>\n",
       "      <td>ॐ अनन्तायै नमः।</td>\n",
       "    </tr>\n",
       "    <tr>\n",
       "      <th>109</th>\n",
       "      <td>Devi</td>\n",
       "      <td>ॐ अनघायै नमः।</td>\n",
       "    </tr>\n",
       "    <tr>\n",
       "      <th>110</th>\n",
       "      <td>Devi</td>\n",
       "      <td>ॐ अज्ञानगोचरायै नमः।</td>\n",
       "    </tr>\n",
       "    <tr>\n",
       "      <th>111</th>\n",
       "      <td>Devi</td>\n",
       "      <td>ॐ आदिशक्तयै नमः।</td>\n",
       "    </tr>\n",
       "    <tr>\n",
       "      <th>112</th>\n",
       "      <td>Devi</td>\n",
       "      <td>ॐ कमलायै नमः।</td>\n",
       "    </tr>\n",
       "    <tr>\n",
       "      <th>113</th>\n",
       "      <td>Devi</td>\n",
       "      <td>ॐ दारिद्रयहारण्यै नमः।</td>\n",
       "    </tr>\n",
       "    <tr>\n",
       "      <th>114</th>\n",
       "      <td>Devi</td>\n",
       "      <td>ॐ दुर्गायै नमः।</td>\n",
       "    </tr>\n",
       "    <tr>\n",
       "      <th>115</th>\n",
       "      <td>Devi</td>\n",
       "      <td>ॐ नारायण्यै नमः।</td>\n",
       "    </tr>\n",
       "    <tr>\n",
       "      <th>116</th>\n",
       "      <td>Devi</td>\n",
       "      <td>ॐ पद्मवासिन्यै नमः।</td>\n",
       "    </tr>\n",
       "    <tr>\n",
       "      <th>117</th>\n",
       "      <td>Devi</td>\n",
       "      <td>ॐ ब्रह्माण्डधारिण्यै नमः।</td>\n",
       "    </tr>\n",
       "    <tr>\n",
       "      <th>118</th>\n",
       "      <td>Devi</td>\n",
       "      <td>ॐ महामायायै नमः।</td>\n",
       "    </tr>\n",
       "    <tr>\n",
       "      <th>119</th>\n",
       "      <td>Devi</td>\n",
       "      <td>ॐ महालक्ष्मै नमः।</td>\n",
       "    </tr>\n",
       "    <tr>\n",
       "      <th>120</th>\n",
       "      <td>Devi</td>\n",
       "      <td>ॐ महादेव्यै नमः।</td>\n",
       "    </tr>\n",
       "    <tr>\n",
       "      <th>121</th>\n",
       "      <td>Devi</td>\n",
       "      <td>ॐ महाविद्यायै नमः।</td>\n",
       "    </tr>\n",
       "    <tr>\n",
       "      <th>122</th>\n",
       "      <td>Devi</td>\n",
       "      <td>ॐ महासरस्वत्यै नमः।</td>\n",
       "    </tr>\n",
       "    <tr>\n",
       "      <th>123</th>\n",
       "      <td>Devi</td>\n",
       "      <td>ॐ भगवत्यै नमः।</td>\n",
       "    </tr>\n",
       "    <tr>\n",
       "      <th>124</th>\n",
       "      <td>Devi</td>\n",
       "      <td>ॐ विद्यालक्ष्म्यै नमः।</td>\n",
       "    </tr>\n",
       "  </tbody>\n",
       "</table>\n",
       "</div>"
      ],
      "text/plain": [
       "    belongs_to                   sanskrit\n",
       "108       Devi            ॐ अनन्तायै नमः।\n",
       "109       Devi              ॐ अनघायै नमः।\n",
       "110       Devi       ॐ अज्ञानगोचरायै नमः।\n",
       "111       Devi           ॐ आदिशक्तयै नमः।\n",
       "112       Devi              ॐ कमलायै नमः।\n",
       "113       Devi     ॐ दारिद्रयहारण्यै नमः।\n",
       "114       Devi            ॐ दुर्गायै नमः।\n",
       "115       Devi           ॐ नारायण्यै नमः।\n",
       "116       Devi        ॐ पद्मवासिन्यै नमः।\n",
       "117       Devi  ॐ ब्रह्माण्डधारिण्यै नमः।\n",
       "118       Devi           ॐ महामायायै नमः।\n",
       "119       Devi          ॐ महालक्ष्मै नमः।\n",
       "120       Devi           ॐ महादेव्यै नमः।\n",
       "121       Devi         ॐ महाविद्यायै नमः।\n",
       "122       Devi        ॐ महासरस्वत्यै नमः।\n",
       "123       Devi             ॐ भगवत्यै नमः।\n",
       "124       Devi     ॐ विद्यालक्ष्म्यै नमः।"
      ]
     },
     "execution_count": 67,
     "metadata": {},
     "output_type": "execute_result"
    }
   ],
   "source": [
    "# extraction of required data\n",
    "\n",
    "df1 = devi_df[['belongs_to', 'sanskrit']]\n",
    "df1"
   ]
  },
  {
   "cell_type": "code",
   "execution_count": 71,
   "metadata": {},
   "outputs": [
    {
     "data": {
      "image/png": "[encoded data removed]",
      "text/plain": [
       "<Figure size 648x360 with 1 Axes>"
      ]
     },
     "metadata": {
      "needs_background": "light"
     },
     "output_type": "display_data"
    }
   ],
   "source": [
    "# Plotting line chart\n",
    "\n",
    "plt.plot(df1.belongs_to)\n",
    "plt.xlabel('Sanskrit names')\n",
    "plt.ylabel('Names');"
   ]
  },
  {
   "cell_type": "code",
   "execution_count": 72,
   "metadata": {},
   "outputs": [
    {
     "data": {
      "application/javascript": [
       "window.require && require([\"base/js/namespace\"],function(Jupyter){Jupyter.notebook.save_checkpoint()})"
      ],
      "text/plain": [
       "<IPython.core.display.Javascript object>"
      ]
     },
     "metadata": {},
     "output_type": "display_data"
    },
    {
     "name": "stdout",
     "output_type": "stream",
     "text": [
      "[jovian] Attempting to save notebook..\u001b[0m\n",
      "[jovian] Updating notebook \"avadhoot-kesarkar/ak-names\" on https://jovian.ml/\u001b[0m\n",
      "[jovian] Uploading notebook..\u001b[0m\n",
      "[jovian] Capturing environment..\u001b[0m\n",
      "[jovian] Committed successfully! https://jovian.ml/avadhoot-kesarkar/ak-names\u001b[0m\n"
     ]
    },
    {
     "data": {
      "text/plain": [
       "'https://jovian.ml/avadhoot-kesarkar/ak-names'"
      ]
     },
     "execution_count": 72,
     "metadata": {},
     "output_type": "execute_result"
    }
   ],
   "source": [
    "jovian.commit()"
   ]
  },
  {
   "cell_type": "markdown",
   "metadata": {},
   "source": [
    "### Q7: Random Sample's % Calculation"
   ]
  },
  {
   "cell_type": "code",
   "execution_count": 83,
   "metadata": {},
   "outputs": [
    {
     "data": {
      "image/png": "[encoded data removed]",
      "text/plain": [
       "<Figure size 648x360 with 1 Axes>"
      ]
     },
     "metadata": {},
     "output_type": "display_data"
    }
   ],
   "source": [
    "# We are plotting pie chart here\n",
    "# Random sample collection\n",
    "df2 = raw_df.sample(3)\n",
    "\n",
    "labels = df2['belongs_to'].astype('category').cat.categories.tolist()\n",
    "counts = df2['belongs_to'].value_counts()\n",
    "sizes = [counts[var_cat] for var_cat in labels]\n",
    "fig1, ax1 = plt.subplots()\n",
    "\n",
    "#autopct is to show the percentage(%) on pie chart\n",
    "\n",
    "ax1.pie(sizes, labels=labels, autopct='%1.1f%%', shadow=True) \n",
    "\n",
    "plt.title(\"Random Sample's Percentage Calculation\")\n",
    "ax1.axis('equal')\n",
    "plt.show();"
   ]
  },
  {
   "cell_type": "code",
   "execution_count": 84,
   "metadata": {},
   "outputs": [
    {
     "data": {
      "application/javascript": [
       "window.require && require([\"base/js/namespace\"],function(Jupyter){Jupyter.notebook.save_checkpoint()})"
      ],
      "text/plain": [
       "<IPython.core.display.Javascript object>"
      ]
     },
     "metadata": {},
     "output_type": "display_data"
    },
    {
     "name": "stdout",
     "output_type": "stream",
     "text": [
      "[jovian] Attempting to save notebook..\u001b[0m\n",
      "[jovian] Updating notebook \"avadhoot-kesarkar/ak-names\" on https://jovian.ml/\u001b[0m\n",
      "[jovian] Uploading notebook..\u001b[0m\n",
      "[jovian] Capturing environment..\u001b[0m\n",
      "[jovian] Committed successfully! https://jovian.ml/avadhoot-kesarkar/ak-names\u001b[0m\n"
     ]
    },
    {
     "data": {
      "text/plain": [
       "'https://jovian.ml/avadhoot-kesarkar/ak-names'"
      ]
     },
     "execution_count": 84,
     "metadata": {},
     "output_type": "execute_result"
    }
   ],
   "source": [
    "jovian.commit()"
   ]
  },
  {
   "cell_type": "markdown",
   "metadata": {},
   "source": [
    "### Q8: TODO - Plot graph of 140 to 145 Name Vs meaning\n"
   ]
  },
  {
   "cell_type": "code",
   "execution_count": 128,
   "metadata": {},
   "outputs": [],
   "source": [
    "df4 = raw_df.loc[140:145]"
   ]
  },
  {
   "cell_type": "code",
   "execution_count": 129,
   "metadata": {},
   "outputs": [
    {
     "name": "stdout",
     "output_type": "stream",
     "text": [
      "<class 'pandas.core.frame.DataFrame'>\n",
      "RangeIndex: 6 entries, 140 to 145\n",
      "Data columns (total 5 columns):\n",
      " #   Column      Non-Null Count  Dtype \n",
      "---  ------      --------------  ----- \n",
      " 0   belongs_to  6 non-null      object\n",
      " 1   name        6 non-null      object\n",
      " 2   meaning     6 non-null      object\n",
      " 3   mantra      6 non-null      object\n",
      " 4   sanskrit    6 non-null      object\n",
      "dtypes: object(5)\n",
      "memory usage: 372.0+ bytes\n"
     ]
    }
   ],
   "source": [
    "df4.info()"
   ]
  },
  {
   "cell_type": "code",
   "execution_count": 130,
   "metadata": {},
   "outputs": [
    {
     "data": {
      "text/html": [
       "<div>\n",
       "<style scoped>\n",
       "    .dataframe tbody tr th:only-of-type {\n",
       "        vertical-align: middle;\n",
       "    }\n",
       "\n",
       "    .dataframe tbody tr th {\n",
       "        vertical-align: top;\n",
       "    }\n",
       "\n",
       "    .dataframe thead th {\n",
       "        text-align: right;\n",
       "    }\n",
       "</style>\n",
       "<table border=\"1\" class=\"dataframe\">\n",
       "  <thead>\n",
       "    <tr style=\"text-align: right;\">\n",
       "      <th></th>\n",
       "      <th>belongs_to</th>\n",
       "      <th>name</th>\n",
       "      <th>meaning</th>\n",
       "      <th>mantra</th>\n",
       "      <th>sanskrit</th>\n",
       "    </tr>\n",
       "  </thead>\n",
       "  <tbody>\n",
       "    <tr>\n",
       "      <th>140</th>\n",
       "      <td>Narayan</td>\n",
       "      <td>Ananta</td>\n",
       "      <td>The Endless Lord</td>\n",
       "      <td>Om Anantaya Namah।</td>\n",
       "      <td>ॐ अनन्ताय नमः।</td>\n",
       "    </tr>\n",
       "    <tr>\n",
       "      <th>141</th>\n",
       "      <td>Narayan</td>\n",
       "      <td>Mukunda</td>\n",
       "      <td>The Giver of Liberation</td>\n",
       "      <td>Om Mukundaya Namah।</td>\n",
       "      <td>ॐ मुकुन्दाय नमः।</td>\n",
       "    </tr>\n",
       "    <tr>\n",
       "      <th>142</th>\n",
       "      <td>Narayan</td>\n",
       "      <td>Shrinivasa</td>\n",
       "      <td>The Permanent Abode of Shree</td>\n",
       "      <td>Om Shrinivasaya Namah।</td>\n",
       "      <td>ॐ श्रीनिवासाय नमः।</td>\n",
       "    </tr>\n",
       "    <tr>\n",
       "      <th>143</th>\n",
       "      <td>Narayan</td>\n",
       "      <td>Pradyumna</td>\n",
       "      <td>Very Rich</td>\n",
       "      <td>Om Pradyumnaya Namah।</td>\n",
       "      <td>ॐ प्रद्युम्नाय नमः।</td>\n",
       "    </tr>\n",
       "    <tr>\n",
       "      <th>144</th>\n",
       "      <td>Narayan</td>\n",
       "      <td>Purushottama</td>\n",
       "      <td>The Supreme Soul</td>\n",
       "      <td>Om Purushottamaya Namah।</td>\n",
       "      <td>ॐ पुरुषोत्तमाय नमः।</td>\n",
       "    </tr>\n",
       "    <tr>\n",
       "      <th>145</th>\n",
       "      <td>Narayan</td>\n",
       "      <td>Adhokshaja</td>\n",
       "      <td>One Whose Vitality Never Flows Downwards</td>\n",
       "      <td>Om Adhokshajaya Namah।</td>\n",
       "      <td>ॐ अधोक्षजाय नमः।</td>\n",
       "    </tr>\n",
       "  </tbody>\n",
       "</table>\n",
       "</div>"
      ],
      "text/plain": [
       "    belongs_to          name                                   meaning  \\\n",
       "140    Narayan        Ananta                          The Endless Lord   \n",
       "141    Narayan       Mukunda                   The Giver of Liberation   \n",
       "142    Narayan    Shrinivasa              The Permanent Abode of Shree   \n",
       "143    Narayan     Pradyumna                                 Very Rich   \n",
       "144    Narayan  Purushottama                          The Supreme Soul   \n",
       "145    Narayan    Adhokshaja  One Whose Vitality Never Flows Downwards   \n",
       "\n",
       "                       mantra             sanskrit  \n",
       "140        Om Anantaya Namah।       ॐ अनन्ताय नमः।  \n",
       "141       Om Mukundaya Namah।     ॐ मुकुन्दाय नमः।  \n",
       "142    Om Shrinivasaya Namah।   ॐ श्रीनिवासाय नमः।  \n",
       "143     Om Pradyumnaya Namah।  ॐ प्रद्युम्नाय नमः।  \n",
       "144  Om Purushottamaya Namah।  ॐ पुरुषोत्तमाय नमः।  \n",
       "145    Om Adhokshajaya Namah।     ॐ अधोक्षजाय नमः।  "
      ]
     },
     "execution_count": 130,
     "metadata": {},
     "output_type": "execute_result"
    }
   ],
   "source": [
    "df4"
   ]
  },
  {
   "cell_type": "code",
   "execution_count": 131,
   "metadata": {},
   "outputs": [
    {
     "data": {
      "image/png": "[encoded data removed]",
      "text/plain": [
       "<Figure size 648x360 with 1 Axes>"
      ]
     },
     "metadata": {
      "needs_background": "light"
     },
     "output_type": "display_data"
    }
   ],
   "source": [
    "# Finds unique values in columns\n",
    "\n",
    "name = df4.name.unique()\n",
    "meaning = df4.meaning.unique()\n",
    "\n",
    "# Plot histogram\n",
    "plt.bar(name, meaning);"
   ]
  },
  {
   "cell_type": "markdown",
   "metadata": {},
   "source": [
    "### Q9: In raw_df find numerically which god's & goddesses has most no. of their names?\n",
    "#### Don't use charts"
   ]
  },
  {
   "cell_type": "code",
   "execution_count": 132,
   "metadata": {},
   "outputs": [
    {
     "data": {
      "application/javascript": [
       "window.require && require([\"base/js/namespace\"],function(Jupyter){Jupyter.notebook.save_checkpoint()})"
      ],
      "text/plain": [
       "<IPython.core.display.Javascript object>"
      ]
     },
     "metadata": {},
     "output_type": "display_data"
    },
    {
     "name": "stdout",
     "output_type": "stream",
     "text": [
      "[jovian] Attempting to save notebook..\u001b[0m\n",
      "[jovian] Updating notebook \"avadhoot-kesarkar/ak-names\" on https://jovian.ml/\u001b[0m\n",
      "[jovian] Uploading notebook..\u001b[0m\n",
      "[jovian] Capturing environment..\u001b[0m\n",
      "[jovian] Committed successfully! https://jovian.ml/avadhoot-kesarkar/ak-names\u001b[0m\n"
     ]
    },
    {
     "data": {
      "text/plain": [
       "'https://jovian.ml/avadhoot-kesarkar/ak-names'"
      ]
     },
     "execution_count": 132,
     "metadata": {},
     "output_type": "execute_result"
    }
   ],
   "source": [
    "jovian.commit()"
   ]
  },
  {
   "cell_type": "code",
   "execution_count": 135,
   "metadata": {},
   "outputs": [
    {
     "data": {
      "text/plain": [
       "0"
      ]
     },
     "execution_count": 135,
     "metadata": {},
     "output_type": "execute_result"
    }
   ],
   "source": [
    "#check null(missing) values in df\n",
    "\n",
    "raw_df.isnull().values.sum()"
   ]
  },
  {
   "cell_type": "code",
   "execution_count": 134,
   "metadata": {},
   "outputs": [
    {
     "data": {
      "text/plain": [
       "belongs_to    0\n",
       "name          0\n",
       "meaning       0\n",
       "mantra        0\n",
       "sanskrit      0\n",
       "dtype: int64"
      ]
     },
     "execution_count": 134,
     "metadata": {},
     "output_type": "execute_result"
    }
   ],
   "source": [
    "# chk column wise null values\n",
    "\n",
    "raw_df.isnull().sum()"
   ]
  },
  {
   "cell_type": "code",
   "execution_count": 138,
   "metadata": {},
   "outputs": [
    {
     "data": {
      "text/plain": [
       "Shiva      108\n",
       "Narayan     25\n",
       "Devi        17\n",
       "Name: belongs_to, dtype: int64"
      ]
     },
     "execution_count": 138,
     "metadata": {},
     "output_type": "execute_result"
    }
   ],
   "source": [
    "# Frequency distribution of 'belongs_to' category\n",
    "\n",
    "raw_df['belongs_to'].value_counts()"
   ]
  },
  {
   "cell_type": "markdown",
   "metadata": {},
   "source": [
    "Here we got our answer"
   ]
  },
  {
   "cell_type": "code",
   "execution_count": 139,
   "metadata": {},
   "outputs": [
    {
     "data": {
      "application/javascript": [
       "window.require && require([\"base/js/namespace\"],function(Jupyter){Jupyter.notebook.save_checkpoint()})"
      ],
      "text/plain": [
       "<IPython.core.display.Javascript object>"
      ]
     },
     "metadata": {},
     "output_type": "display_data"
    },
    {
     "name": "stdout",
     "output_type": "stream",
     "text": [
      "[jovian] Attempting to save notebook..\u001b[0m\n",
      "[jovian] Updating notebook \"avadhoot-kesarkar/ak-names\" on https://jovian.ml/\u001b[0m\n",
      "[jovian] Uploading notebook..\u001b[0m\n",
      "[jovian] Capturing environment..\u001b[0m\n",
      "[jovian] Committed successfully! https://jovian.ml/avadhoot-kesarkar/ak-names\u001b[0m\n"
     ]
    },
    {
     "data": {
      "text/plain": [
       "'https://jovian.ml/avadhoot-kesarkar/ak-names'"
      ]
     },
     "execution_count": 139,
     "metadata": {},
     "output_type": "execute_result"
    }
   ],
   "source": [
    "jovian.commit()"
   ]
  },
  {
   "cell_type": "markdown",
   "metadata": {},
   "source": [
    "## Inferences and Conclusion\n",
    "\n",
    "- Did analysis on dataframe and found that Shiva has most names in df\n",
    "- Did percentage wise calculation \n",
    "- Performed graphs drawing on selected group of data\n",
    "- Performed lots of diff operations"
   ]
  },
  {
   "cell_type": "markdown",
   "metadata": {},
   "source": [
    "## References and Future Work\n",
    "\n",
    "**TODO** - Will going to increse this dataset in future, with proper meanings of names from vedas/scriptures.\n",
    "\n",
    "**You Can Contribute me here to grow dataset**\n",
    "\n",
    "- https://www.kaggle.com/avadhootk/names-df\n",
    "\n",
    "- https://github.com/ak0029/names\n"
   ]
  },
  {
   "cell_type": "code",
   "execution_count": 148,
   "metadata": {},
   "outputs": [],
   "source": [
    "import jovian"
   ]
  },
  {
   "cell_type": "code",
   "execution_count": null,
   "metadata": {
    "scrolled": false
   },
   "outputs": [
    {
     "data": {
      "application/javascript": [
       "window.require && require([\"base/js/namespace\"],function(Jupyter){Jupyter.notebook.save_checkpoint()})"
      ],
      "text/plain": [
       "<IPython.core.display.Javascript object>"
      ]
     },
     "metadata": {},
     "output_type": "display_data"
    },
    {
     "name": "stdout",
     "output_type": "stream",
     "text": [
      "[jovian] Attempting to save notebook..\u001b[0m\n"
     ]
    }
   ],
   "source": [
    "jovian.commit()"
   ]
  },
  {
   "cell_type": "code",
   "execution_count": null,
   "metadata": {},
   "outputs": [],
   "source": []
  }
 ],
 "metadata": {
  "kernelspec": {
   "display_name": "Python 3",
   "language": "python",
   "name": "python3"
  },
  "language_info": {
   "codemirror_mode": {
    "name": "ipython",
    "version": 3
   },
   "file_extension": ".py",
   "mimetype": "text/x-python",
   "name": "python",
   "nbconvert_exporter": "python",
   "pygments_lexer": "ipython3",
   "version": "3.8.6"
  }
 },
 "nbformat": 4,
 "nbformat_minor": 4
}
